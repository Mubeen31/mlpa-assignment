{
 "cells": [
  {
   "cell_type": "code",
   "execution_count": 1,
   "metadata": {},
   "outputs": [],
   "source": [
    "import pandas as pd\n",
    "\n",
    "header_list = ['Date Time', 'Voltage', 'Current']\n",
    "df = pd.read_csv('sensors_data.csv', names = header_list)\n",
    "df['Date Time'] = pd.to_datetime(df['Date Time'])\n",
    "df['Date'] = df['Date Time'].dt.date\n",
    "df['Date'] = pd.to_datetime(df['Date'])\n",
    "df['Month'] = pd.to_datetime(df['Date']).dt.month"
   ]
  },
  {
   "cell_type": "code",
   "execution_count": 2,
   "metadata": {},
   "outputs": [],
   "source": [
    "today_date = df['Date'].unique()"
   ]
  },
  {
   "cell_type": "code",
   "execution_count": 3,
   "metadata": {},
   "outputs": [
    {
     "name": "stdout",
     "output_type": "stream",
     "text": [
      "9.686460202156326\n"
     ]
    }
   ],
   "source": [
    "today_voltage = df[df['Date'] == today_date[-1]]['Voltage'].mean()\n",
    "print(today_voltage)"
   ]
  },
  {
   "cell_type": "code",
   "execution_count": 4,
   "metadata": {},
   "outputs": [],
   "source": [
    "unique_month = df['Month'].unique()"
   ]
  },
  {
   "cell_type": "code",
   "execution_count": 5,
   "metadata": {},
   "outputs": [
    {
     "name": "stdout",
     "output_type": "stream",
     "text": [
      "11.361273253558853\n"
     ]
    }
   ],
   "source": [
    "this_month = df[df['Month'] == unique_month[-1]]['Voltage'].mean()\n",
    "print(this_month)"
   ]
  },
  {
   "cell_type": "code",
   "execution_count": 6,
   "metadata": {},
   "outputs": [
    {
     "name": "stdout",
     "output_type": "stream",
     "text": [
      "01:00\n"
     ]
    }
   ],
   "source": [
    "header_list = ['Time', 'Weather Status', 'Temperature', 'Real Feel Temperature', 'Precipitation']\n",
    "df = pd.read_csv('first_hour_forecast_data.csv', names = header_list)\n",
    "df['Time'] = pd.to_datetime(df['Time'])\n",
    "df['time'] = pd.to_datetime(df['Time']).dt.time\n",
    "print(df['time'].iloc[-1].strftime('%H:%M'))"
   ]
  },
  {
   "cell_type": "code",
   "execution_count": 7,
   "metadata": {},
   "outputs": [
    {
     "name": "stdout",
     "output_type": "stream",
     "text": [
      "18:45:45\n"
     ]
    }
   ],
   "source": [
    "from datetime import datetime\n",
    "now = datetime.now()\n",
    "time_name = now.strftime('%H:%M:%S')\n",
    "print(time_name)"
   ]
  },
  {
   "cell_type": "code",
   "execution_count": 8,
   "metadata": {},
   "outputs": [],
   "source": [
    "import pandas as pd\n",
    "\n",
    "header_list = ['Date Time', 'Voltage', 'Current']\n",
    "df = pd.read_csv('sensors_data.csv', names = header_list)\n",
    "df['Power (W)'] = df['Voltage'] * df['Current']\n",
    "df['Power (KW)'] = df['Power (W)'] / 1000\n",
    "df['Date Time'] = pd.to_datetime(df['Date Time'])\n",
    "df['Date'] = df['Date Time'].dt.date\n",
    "df['Date'] = pd.to_datetime(df['Date'])\n",
    "df['Month'] = pd.to_datetime(df['Date']).dt.month\n",
    "df['time'] = pd.to_datetime(df['Date Time']).dt.time\n",
    "df['hour'] = pd.to_datetime(df['Date Time']).dt.hour\n",
    "df['time'].iloc[-1].strftime('%H:%M')\n",
    "df['time'] = df['time'].astype(str)\n",
    "df['hour'] = df['hour'].astype(str)"
   ]
  },
  {
   "cell_type": "code",
   "execution_count": 9,
   "metadata": {},
   "outputs": [
    {
     "name": "stdout",
     "output_type": "stream",
     "text": [
      "               Date Time   Voltage  Current  Power (W)  Power (KW)       Date  \\\n",
      "7067 2022-06-04 12:14:05  13.54980  0.34799   4.715195    0.004715 2022-06-04   \n",
      "7068 2022-06-04 12:15:05  13.54980  0.34185   4.631999    0.004632 2022-06-04   \n",
      "7069 2022-06-04 12:16:05  13.57422  0.34850   4.730616    0.004731 2022-06-04   \n",
      "7070 2022-06-04 12:17:05  13.54980  0.35960   4.872508    0.004873 2022-06-04   \n",
      "7071 2022-06-04 12:18:05  13.54980  0.35614   4.825626    0.004826 2022-06-04   \n",
      "7072 2022-06-04 12:19:05  13.57422  0.34807   4.724779    0.004725 2022-06-04   \n",
      "7073 2022-06-04 12:20:06  13.54980  0.35176   4.766278    0.004766 2022-06-04   \n",
      "7074 2022-06-04 12:21:06  13.57422  0.35302   4.791971    0.004792 2022-06-04   \n",
      "7075 2022-06-04 12:22:06  13.54980  0.35761   4.845544    0.004846 2022-06-04   \n",
      "7076 2022-06-04 12:23:06  13.57422  0.35910   4.874502    0.004875 2022-06-04   \n",
      "\n",
      "      Month      time hour  \n",
      "7067      6  12:14:05   12  \n",
      "7068      6  12:15:05   12  \n",
      "7069      6  12:16:05   12  \n",
      "7070      6  12:17:05   12  \n",
      "7071      6  12:18:05   12  \n",
      "7072      6  12:19:05   12  \n",
      "7073      6  12:20:06   12  \n",
      "7074      6  12:21:06   12  \n",
      "7075      6  12:22:06   12  \n",
      "7076      6  12:23:06   12  \n"
     ]
    }
   ],
   "source": [
    "print(df.tail(10))"
   ]
  },
  {
   "cell_type": "code",
   "execution_count": 10,
   "metadata": {},
   "outputs": [
    {
     "name": "stdout",
     "output_type": "stream",
     "text": [
      "['2022-05-03T00:00:00.000000000' '2022-05-04T00:00:00.000000000'\n",
      " '2022-05-05T00:00:00.000000000' '2022-05-27T00:00:00.000000000'\n",
      " '2022-05-30T00:00:00.000000000' '2022-05-31T00:00:00.000000000'\n",
      " '2022-06-01T00:00:00.000000000' '2022-06-02T00:00:00.000000000'\n",
      " '2022-06-03T00:00:00.000000000' '2022-06-04T00:00:00.000000000']\n"
     ]
    }
   ],
   "source": [
    "today_date = df['Date'].unique()\n",
    "print(today_date)"
   ]
  },
  {
   "cell_type": "code",
   "execution_count": 11,
   "metadata": {},
   "outputs": [
    {
     "data": {
      "text/plain": [
       "0.0"
      ]
     },
     "execution_count": 11,
     "metadata": {},
     "output_type": "execute_result"
    }
   ],
   "source": [
    "first_hour = df[(df['Date'] == today_date[-2]) & (df['time'] >= '00:00:00') & (df['time'] <= '00:59:59')]\n",
    "first_hour_energy = first_hour['Power (KW)'].sum()\n",
    "first_hour_energy "
   ]
  },
  {
   "cell_type": "code",
   "execution_count": 12,
   "metadata": {},
   "outputs": [
    {
     "data": {
      "text/plain": [
       "0.0"
      ]
     },
     "execution_count": 12,
     "metadata": {},
     "output_type": "execute_result"
    }
   ],
   "source": [
    "second_hour = df[(df['Date'] == today_date[-2]) & (df['time'] >= '01:00:00') & (df['time'] <= '01:59:59')]\n",
    "second_hour_energy = second_hour['Power (KW)'].sum()\n",
    "second_hour_energy "
   ]
  },
  {
   "cell_type": "code",
   "execution_count": 13,
   "metadata": {},
   "outputs": [
    {
     "data": {
      "text/plain": [
       "0.0"
      ]
     },
     "execution_count": 13,
     "metadata": {},
     "output_type": "execute_result"
    }
   ],
   "source": [
    "third_hour = df[(df['Date'] == today_date[-2]) & (df['time'] >= '02:00:00') & (df['time'] <= '02:59:59')]\n",
    "third_hour_energy = third_hour['Power (KW)'].sum()\n",
    "third_hour_energy "
   ]
  },
  {
   "cell_type": "code",
   "execution_count": 14,
   "metadata": {},
   "outputs": [
    {
     "data": {
      "text/plain": [
       "0.0"
      ]
     },
     "execution_count": 14,
     "metadata": {},
     "output_type": "execute_result"
    }
   ],
   "source": [
    "fourth_hour = df[(df['Date'] == today_date[-2]) & (df['time'] >= '03:00:00') & (df['time'] <= '03:59:59')]\n",
    "fourth_hour_energy = fourth_hour['Power (KW)'].sum()\n",
    "fourth_hour_energy "
   ]
  },
  {
   "cell_type": "code",
   "execution_count": 15,
   "metadata": {},
   "outputs": [
    {
     "data": {
      "text/plain": [
       "0.0"
      ]
     },
     "execution_count": 15,
     "metadata": {},
     "output_type": "execute_result"
    }
   ],
   "source": [
    "fifth_hour = df[(df['Date'] == today_date[-2]) & (df['time'] >= '04:00:00') & (df['time'] <= '04:59:59')]\n",
    "fifth_hour_energy = fifth_hour['Power (KW)'].sum()\n",
    "fifth_hour_energy "
   ]
  },
  {
   "cell_type": "code",
   "execution_count": 16,
   "metadata": {},
   "outputs": [
    {
     "data": {
      "text/plain": [
       "0.0"
      ]
     },
     "execution_count": 16,
     "metadata": {},
     "output_type": "execute_result"
    }
   ],
   "source": [
    "sixth_hour = df[(df['Date'] == today_date[-2]) & (df['time'] >= '05:00:00') & (df['time'] <= '05:59:59')]\n",
    "sixth_hour_energy = sixth_hour['Power (KW)'].sum()\n",
    "sixth_hour_energy "
   ]
  },
  {
   "cell_type": "code",
   "execution_count": 17,
   "metadata": {},
   "outputs": [
    {
     "data": {
      "text/plain": [
       "0.0332725584705"
      ]
     },
     "execution_count": 17,
     "metadata": {},
     "output_type": "execute_result"
    }
   ],
   "source": [
    "seventh_hour = df[(df['Date'] == today_date[-2]) & (df['time'] >= '06:00:00') & (df['time'] <= '06:59:59')]\n",
    "seventh_hour_energy = seventh_hour['Power (KW)'].sum()\n",
    "seventh_hour_energy "
   ]
  },
  {
   "cell_type": "code",
   "execution_count": 18,
   "metadata": {},
   "outputs": [
    {
     "data": {
      "text/plain": [
       "0.1896419769075"
      ]
     },
     "execution_count": 18,
     "metadata": {},
     "output_type": "execute_result"
    }
   ],
   "source": [
    "eighth_hour = df[(df['Date'] == today_date[-2]) & (df['time'] >= '07:00:00') & (df['time'] <= '07:59:59')]\n",
    "eighth_hour_energy = eighth_hour['Power (KW)'].sum()\n",
    "eighth_hour_energy "
   ]
  },
  {
   "cell_type": "code",
   "execution_count": 19,
   "metadata": {},
   "outputs": [
    {
     "data": {
      "text/plain": [
       "0.5147752026598"
      ]
     },
     "execution_count": 19,
     "metadata": {},
     "output_type": "execute_result"
    }
   ],
   "source": [
    "nineth_hour = df[(df['Date'] == today_date[-2]) & (df['time'] >= '08:00:00') & (df['time'] <= '08:59:59')]\n",
    "nineth_hour_energy = nineth_hour['Power (KW)'].sum()\n",
    "nineth_hour_energy "
   ]
  },
  {
   "cell_type": "code",
   "execution_count": 20,
   "metadata": {},
   "outputs": [
    {
     "data": {
      "text/plain": [
       "0.4665510244516"
      ]
     },
     "execution_count": 20,
     "metadata": {},
     "output_type": "execute_result"
    }
   ],
   "source": [
    "tenth_hour = df[(df['Date'] == today_date[-2]) & (df['time'] >= '09:00:00') & (df['time'] <= '09:59:59')]\n",
    "tenth_hour_energy = tenth_hour['Power (KW)'].sum()\n",
    "tenth_hour_energy "
   ]
  },
  {
   "cell_type": "code",
   "execution_count": 21,
   "metadata": {},
   "outputs": [
    {
     "data": {
      "text/plain": [
       "0.22320791482390004"
      ]
     },
     "execution_count": 21,
     "metadata": {},
     "output_type": "execute_result"
    }
   ],
   "source": [
    "eleventh_hour = df[(df['Date'] == today_date[-2]) & (df['time'] >= '10:00:00') & (df['time'] <= '10:59:59')]\n",
    "eleventh_hour_energy = eleventh_hour['Power (KW)'].sum()\n",
    "eleventh_hour_energy "
   ]
  },
  {
   "cell_type": "code",
   "execution_count": 22,
   "metadata": {},
   "outputs": [
    {
     "data": {
      "text/plain": [
       "0.6316041114690003"
      ]
     },
     "execution_count": 22,
     "metadata": {},
     "output_type": "execute_result"
    }
   ],
   "source": [
    "twelth_hour = df[(df['Date'] == today_date[-2]) & (df['time'] >= '11:00:00') & (df['time'] <= '11:59:59')]\n",
    "twelth_hour_energy = twelth_hour['Power (KW)'].sum()\n",
    "twelth_hour_energy "
   ]
  },
  {
   "cell_type": "code",
   "execution_count": 23,
   "metadata": {},
   "outputs": [
    {
     "data": {
      "text/plain": [
       "1.1240025817993997"
      ]
     },
     "execution_count": 23,
     "metadata": {},
     "output_type": "execute_result"
    }
   ],
   "source": [
    "thirteenth_hour = df[(df['Date'] == today_date[-2]) & (df['time'] >= '12:00:00') & (df['time'] <= '12:59:59')]\n",
    "thirteenth_hour_energy = thirteenth_hour['Power (KW)'].sum()\n",
    "thirteenth_hour_energy "
   ]
  },
  {
   "cell_type": "code",
   "execution_count": 24,
   "metadata": {},
   "outputs": [
    {
     "data": {
      "text/plain": [
       "1.1672356086818998"
      ]
     },
     "execution_count": 24,
     "metadata": {},
     "output_type": "execute_result"
    }
   ],
   "source": [
    "fourteenth_hour = df[(df['Date'] == today_date[-2]) & (df['time'] >= '13:00:00') & (df['time'] <= '13:59:59')]\n",
    "fourteenth_hour_energy = fourteenth_hour['Power (KW)'].sum()\n",
    "fourteenth_hour_energy "
   ]
  },
  {
   "cell_type": "code",
   "execution_count": 25,
   "metadata": {},
   "outputs": [
    {
     "data": {
      "text/plain": [
       "0.5299493504381001"
      ]
     },
     "execution_count": 25,
     "metadata": {},
     "output_type": "execute_result"
    }
   ],
   "source": [
    "fifteenth_hour = df[(df['Date'] == today_date[-2]) & (df['time'] >= '14:00:00') & (df['time'] <= '14:59:59')]\n",
    "fifteenth_hour_energy = fifteenth_hour['Power (KW)'].sum()\n",
    "fifteenth_hour_energy "
   ]
  },
  {
   "cell_type": "code",
   "execution_count": 26,
   "metadata": {},
   "outputs": [
    {
     "data": {
      "text/plain": [
       "0.5827194744243"
      ]
     },
     "execution_count": 26,
     "metadata": {},
     "output_type": "execute_result"
    }
   ],
   "source": [
    "sixteenth_hour = df[(df['Date'] == today_date[-2]) & (df['time'] >= '15:00:00') & (df['time'] <= '15:59:59')]\n",
    "sixteenth_hour_energy = sixteenth_hour['Power (KW)'].sum()\n",
    "sixteenth_hour_energy "
   ]
  },
  {
   "cell_type": "code",
   "execution_count": 27,
   "metadata": {},
   "outputs": [
    {
     "data": {
      "text/plain": [
       "0.1289209811032"
      ]
     },
     "execution_count": 27,
     "metadata": {},
     "output_type": "execute_result"
    }
   ],
   "source": [
    "seventeenth_hour = df[(df['Date'] == today_date[-2]) & (df['time'] >= '16:00:00') & (df['time'] <= '16:59:59')]\n",
    "seventeenth_hour_energy = seventeenth_hour['Power (KW)'].sum()\n",
    "seventeenth_hour_energy "
   ]
  },
  {
   "cell_type": "code",
   "execution_count": 28,
   "metadata": {},
   "outputs": [
    {
     "data": {
      "text/plain": [
       "0.17050238389530004"
      ]
     },
     "execution_count": 28,
     "metadata": {},
     "output_type": "execute_result"
    }
   ],
   "source": [
    "eighteenth_hour = df[(df['Date'] == today_date[-2]) & (df['time'] >= '17:00:00') & (df['time'] <= '17:59:59')]\n",
    "eighteenth_hour_energy = eighteenth_hour['Power (KW)'].sum()\n",
    "eighteenth_hour_energy "
   ]
  },
  {
   "cell_type": "code",
   "execution_count": 29,
   "metadata": {},
   "outputs": [
    {
     "data": {
      "text/plain": [
       "0.41817140718089996"
      ]
     },
     "execution_count": 29,
     "metadata": {},
     "output_type": "execute_result"
    }
   ],
   "source": [
    "nineteenth_hour = df[(df['Date'] == today_date[-2]) & (df['time'] >= '18:00:00') & (df['time'] <= '18:59:59')]\n",
    "nineteenth_hour_energy = nineteenth_hour['Power (KW)'].sum()\n",
    "nineteenth_hour_energy "
   ]
  },
  {
   "cell_type": "code",
   "execution_count": 30,
   "metadata": {},
   "outputs": [
    {
     "data": {
      "text/plain": [
       "0.2756949578167"
      ]
     },
     "execution_count": 30,
     "metadata": {},
     "output_type": "execute_result"
    }
   ],
   "source": [
    "twenteeth_hour = df[(df['Date'] == today_date[-2]) & (df['time'] >= '19:00:00') & (df['time'] <= '19:59:59')]\n",
    "twenteeth_hour_energy = twenteeth_hour['Power (KW)'].sum()\n",
    "twenteeth_hour_energy "
   ]
  },
  {
   "cell_type": "code",
   "execution_count": 31,
   "metadata": {},
   "outputs": [
    {
     "data": {
      "text/plain": [
       "0.0829825127743"
      ]
     },
     "execution_count": 31,
     "metadata": {},
     "output_type": "execute_result"
    }
   ],
   "source": [
    "twentyoneth_hour = df[(df['Date'] == today_date[-2]) & (df['time'] >= '20:00:00') & (df['time'] <= '20:59:59')]\n",
    "twentyoneth_hour_energy = twentyoneth_hour['Power (KW)'].sum()\n",
    "twentyoneth_hour_energy "
   ]
  },
  {
   "cell_type": "code",
   "execution_count": 32,
   "metadata": {},
   "outputs": [
    {
     "data": {
      "text/plain": [
       "0.0"
      ]
     },
     "execution_count": 32,
     "metadata": {},
     "output_type": "execute_result"
    }
   ],
   "source": [
    "twentysecond_hour = df[(df['Date'] == today_date[-2]) & (df['time'] >= '21:00:00') & (df['time'] <= '21:59:59')]\n",
    "twentysecond_hour_energy = twentysecond_hour['Power (KW)'].sum()\n",
    "twentysecond_hour_energy "
   ]
  },
  {
   "cell_type": "code",
   "execution_count": 33,
   "metadata": {},
   "outputs": [
    {
     "data": {
      "text/plain": [
       "0.0"
      ]
     },
     "execution_count": 33,
     "metadata": {},
     "output_type": "execute_result"
    }
   ],
   "source": [
    "twentythird_hour = df[(df['Date'] == today_date[-2]) & (df['time'] >= '22:00:00') & (df['time'] <= '22:59:59')]\n",
    "twentythird_hour_energy = twentythird_hour['Power (KW)'].sum()\n",
    "twentythird_hour_energy "
   ]
  },
  {
   "cell_type": "code",
   "execution_count": 34,
   "metadata": {},
   "outputs": [
    {
     "data": {
      "text/plain": [
       "0.0"
      ]
     },
     "execution_count": 34,
     "metadata": {},
     "output_type": "execute_result"
    }
   ],
   "source": [
    "twentyfourth_hour = df[(df['Date'] == today_date[-2]) & (df['time'] >= '23:00:00') & (df['time'] <= '23:59:59')]\n",
    "twentyfourth_hour_energy = twentyfourth_hour['Power (KW)'].sum()\n",
    "twentyfourth_hour_energy "
   ]
  },
  {
   "cell_type": "code",
   "execution_count": 35,
   "metadata": {},
   "outputs": [],
   "source": [
    "hourly_data = [first_hour_energy, second_hour_energy, third_hour_energy, fourth_hour_energy, fifth_hour_energy, \n",
    "               sixth_hour_energy, seventh_hour_energy, eighth_hour_energy, nineth_hour_energy, tenth_hour_energy, \n",
    "               eleventh_hour_energy, twelth_hour_energy, thirteenth_hour_energy, fourteenth_hour_energy, \n",
    "               fifteenth_hour_energy, sixteenth_hour_energy, seventeenth_hour_energy, eighteenth_hour_energy, \n",
    "               nineteenth_hour_energy, twenteeth_hour_energy, twentyoneth_hour_energy, twentysecond_hour_energy, \n",
    "               twentythird_hour_energy, twentyfourth_hour_energy]"
   ]
  },
  {
   "cell_type": "code",
   "execution_count": 36,
   "metadata": {},
   "outputs": [],
   "source": [
    "hours = [0, 1, 2, 3, 4, 5, 6, 7, 8, 9, 10, 11, 12, 13, 14, 15, 16, 17, 18, 19, 20, 21, 22, 23]"
   ]
  },
  {
   "cell_type": "code",
   "execution_count": 50,
   "metadata": {},
   "outputs": [],
   "source": [
    "selected_date = df[(df['Date'] == today_date[-2]) & (df['time'] >= '00:00:00') & (df['time'] <= '23:59:59')]['Date'].iloc[1]"
   ]
  },
  {
   "cell_type": "code",
   "execution_count": 52,
   "metadata": {},
   "outputs": [],
   "source": [
    "date = [selected_date, selected_date, selected_date, selected_date, selected_date, selected_date, selected_date, selected_date,\n",
    "       selected_date, selected_date, selected_date, selected_date, selected_date, selected_date, selected_date, selected_date,\n",
    "       selected_date, selected_date,selected_date, selected_date, selected_date, selected_date, selected_date,selected_date]"
   ]
  },
  {
   "cell_type": "code",
   "execution_count": 55,
   "metadata": {},
   "outputs": [],
   "source": [
    "tme = ['00:00', '01:00', '02:00', '03:00', '04:00', '05:00', '06:00', '07:00', '08:00', '09:00', '10:00', '11:00', '12:00',\n",
    "      '13:00', '14:00', '15:00', '16:00', '17:00', '18:00', '19:00', '20:00', '21:00', '22:00', '23:00']"
   ]
  },
  {
   "cell_type": "code",
   "execution_count": 56,
   "metadata": {},
   "outputs": [],
   "source": [
    "hourly_data_and_hours = {'Date': date, 'Time': tme, 'Hours': hours, 'Hourly Data': hourly_data}"
   ]
  },
  {
   "cell_type": "code",
   "execution_count": 57,
   "metadata": {},
   "outputs": [
    {
     "name": "stdout",
     "output_type": "stream",
     "text": [
      "         Date   Time  Hours  Hourly Data\n",
      "0  2022-06-03  00:00      0     0.000000\n",
      "1  2022-06-03  01:00      1     0.000000\n",
      "2  2022-06-03  02:00      2     0.000000\n",
      "3  2022-06-03  03:00      3     0.000000\n",
      "4  2022-06-03  04:00      4     0.000000\n",
      "5  2022-06-03  05:00      5     0.000000\n",
      "6  2022-06-03  06:00      6     0.033273\n",
      "7  2022-06-03  07:00      7     0.189642\n",
      "8  2022-06-03  08:00      8     0.514775\n",
      "9  2022-06-03  09:00      9     0.466551\n",
      "10 2022-06-03  10:00     10     0.223208\n",
      "11 2022-06-03  11:00     11     0.631604\n",
      "12 2022-06-03  12:00     12     1.124003\n",
      "13 2022-06-03  13:00     13     1.167236\n",
      "14 2022-06-03  14:00     14     0.529949\n",
      "15 2022-06-03  15:00     15     0.582719\n",
      "16 2022-06-03  16:00     16     0.128921\n",
      "17 2022-06-03  17:00     17     0.170502\n",
      "18 2022-06-03  18:00     18     0.418171\n",
      "19 2022-06-03  19:00     19     0.275695\n",
      "20 2022-06-03  20:00     20     0.082983\n",
      "21 2022-06-03  21:00     21     0.000000\n",
      "22 2022-06-03  22:00     22     0.000000\n",
      "23 2022-06-03  23:00     23     0.000000\n"
     ]
    }
   ],
   "source": [
    "hourly_data_and_hours_df = pd.DataFrame(hourly_data_and_hours)\n",
    "print(hourly_data_and_hours_df)"
   ]
  },
  {
   "cell_type": "code",
   "execution_count": 41,
   "metadata": {},
   "outputs": [
    {
     "data": {
      "text/plain": [
       "6.5392320468964"
      ]
     },
     "execution_count": 41,
     "metadata": {},
     "output_type": "execute_result"
    }
   ],
   "source": [
    "hourly_data_and_hours_df['Hourly Data'].sum()"
   ]
  },
  {
   "cell_type": "code",
   "execution_count": 42,
   "metadata": {},
   "outputs": [
    {
     "data": {
      "text/plain": [
       "6.539232046896401"
      ]
     },
     "execution_count": 42,
     "metadata": {},
     "output_type": "execute_result"
    }
   ],
   "source": [
    "first_hour = df[(df['Date'] == today_date[-2]) & (df['time'] >= '00:00:00') & (df['time'] <= '23:59:59')]\n",
    "first_hour_energy = first_hour['Power (KW)'].sum()\n",
    "first_hour_energy "
   ]
  },
  {
   "cell_type": "code",
   "execution_count": 61,
   "metadata": {},
   "outputs": [
    {
     "name": "stdout",
     "output_type": "stream",
     "text": [
      "{'DateTime': '2022-06-07T00:00:00+01:00', 'EpochDateTime': 1654556400, 'WeatherIcon': 38, 'IconPhrase': 'Mostly cloudy', 'HasPrecipitation': False, 'IsDaylight': False, 'Temperature': {'Value': 13.3, 'Unit': 'C', 'UnitType': 17}, 'RealFeelTemperature': {'Value': 13.7, 'Unit': 'C', 'UnitType': 17, 'Phrase': 'Cool'}, 'RealFeelTemperatureShade': {'Value': 13.7, 'Unit': 'C', 'UnitType': 17, 'Phrase': 'Cool'}, 'WetBulbTemperature': {'Value': 12.4, 'Unit': 'C', 'UnitType': 17}, 'DewPoint': {'Value': 11.5, 'Unit': 'C', 'UnitType': 17}, 'Wind': {'Speed': {'Value': 3.7, 'Unit': 'km/h', 'UnitType': 7}, 'Direction': {'Degrees': 55, 'Localized': 'NE', 'English': 'NE'}}, 'WindGust': {'Speed': {'Value': 5.6, 'Unit': 'km/h', 'UnitType': 7}}, 'RelativeHumidity': 89, 'IndoorRelativeHumidity': 58, 'Visibility': {'Value': 16.1, 'Unit': 'km', 'UnitType': 6}, 'Ceiling': {'Value': 549.0, 'Unit': 'm', 'UnitType': 5}, 'UVIndex': 0, 'UVIndexText': 'Low', 'PrecipitationProbability': 32, 'ThunderstormProbability': 6, 'RainProbability': 32, 'SnowProbability': 0, 'IceProbability': 0, 'TotalLiquid': {'Value': 0.0, 'Unit': 'mm', 'UnitType': 3}, 'Rain': {'Value': 0.0, 'Unit': 'mm', 'UnitType': 3}, 'Snow': {'Value': 0.0, 'Unit': 'cm', 'UnitType': 4}, 'Ice': {'Value': 0.0, 'Unit': 'mm', 'UnitType': 3}, 'CloudCover': 76, 'Evapotranspiration': {'Value': 0.0, 'Unit': 'mm', 'UnitType': 3}, 'SolarIrradiance': {'Value': 0.0, 'Unit': 'W/m²', 'UnitType': 33}, 'MobileLink': 'http://www.accuweather.com/en/gb/worcester/wr1-3/hourly-weather-forecast/331595?day=2&hbhhour=0&unit=c&lang=en-us', 'Link': 'http://www.accuweather.com/en/gb/worcester/wr1-3/hourly-weather-forecast/331595?day=2&hbhhour=0&unit=c&lang=en-us'}\n"
     ]
    }
   ],
   "source": [
    "import requests\n",
    "complete_api_link = 'http://dataservice.accuweather.com/forecasts/v1/hourly/12hour/331595?apikey=vnwz1buClrE9YhGJFG3mhNVq23tnIACH&details=true&metric=true'\n",
    "api_link = requests.get(complete_api_link)\n",
    "api_data = api_link.json()\n",
    "print(api_data[0])"
   ]
  },
  {
   "cell_type": "code",
   "execution_count": 62,
   "metadata": {},
   "outputs": [
    {
     "name": "stdout",
     "output_type": "stream",
     "text": [
      "{'DateTime': '2022-06-07T01:00:00+01:00', 'EpochDateTime': 1654560000, 'WeatherIcon': 38, 'IconPhrase': 'Mostly cloudy', 'HasPrecipitation': False, 'IsDaylight': False, 'Temperature': {'Value': 13.2, 'Unit': 'C', 'UnitType': 17}, 'RealFeelTemperature': {'Value': 13.4, 'Unit': 'C', 'UnitType': 17, 'Phrase': 'Cool'}, 'RealFeelTemperatureShade': {'Value': 13.4, 'Unit': 'C', 'UnitType': 17, 'Phrase': 'Cool'}, 'WetBulbTemperature': {'Value': 12.1, 'Unit': 'C', 'UnitType': 17}, 'DewPoint': {'Value': 11.0, 'Unit': 'C', 'UnitType': 17}, 'Wind': {'Speed': {'Value': 5.6, 'Unit': 'km/h', 'UnitType': 7}, 'Direction': {'Degrees': 56, 'Localized': 'NE', 'English': 'NE'}}, 'WindGust': {'Speed': {'Value': 5.6, 'Unit': 'km/h', 'UnitType': 7}}, 'RelativeHumidity': 87, 'IndoorRelativeHumidity': 56, 'Visibility': {'Value': 16.1, 'Unit': 'km', 'UnitType': 6}, 'Ceiling': {'Value': 9144.0, 'Unit': 'm', 'UnitType': 5}, 'UVIndex': 0, 'UVIndexText': 'Low', 'PrecipitationProbability': 25, 'ThunderstormProbability': 5, 'RainProbability': 25, 'SnowProbability': 0, 'IceProbability': 0, 'TotalLiquid': {'Value': 0.0, 'Unit': 'mm', 'UnitType': 3}, 'Rain': {'Value': 0.0, 'Unit': 'mm', 'UnitType': 3}, 'Snow': {'Value': 0.0, 'Unit': 'cm', 'UnitType': 4}, 'Ice': {'Value': 0.0, 'Unit': 'mm', 'UnitType': 3}, 'CloudCover': 76, 'Evapotranspiration': {'Value': 0.0, 'Unit': 'mm', 'UnitType': 3}, 'SolarIrradiance': {'Value': 0.0, 'Unit': 'W/m²', 'UnitType': 33}, 'MobileLink': 'http://www.accuweather.com/en/gb/worcester/wr1-3/hourly-weather-forecast/331595?day=2&hbhhour=1&unit=c&lang=en-us', 'Link': 'http://www.accuweather.com/en/gb/worcester/wr1-3/hourly-weather-forecast/331595?day=2&hbhhour=1&unit=c&lang=en-us'}\n"
     ]
    }
   ],
   "source": [
    "import requests\n",
    "complete_api_link = 'http://dataservice.accuweather.com/forecasts/v1/hourly/12hour/331595?apikey=vnwz1buClrE9YhGJFG3mhNVq23tnIACH&details=true&metric=true'\n",
    "api_link = requests.get(complete_api_link)\n",
    "api_data = api_link.json()\n",
    "print(api_data[1])"
   ]
  },
  {
   "cell_type": "code",
   "execution_count": 67,
   "metadata": {},
   "outputs": [
    {
     "name": "stdout",
     "output_type": "stream",
     "text": [
      "{'DateTime': '2022-06-07T02:00:00+01:00', 'EpochDateTime': 1654563600, 'WeatherIcon': 38, 'IconPhrase': 'Mostly cloudy', 'HasPrecipitation': False, 'IsDaylight': False, 'Temperature': {'Value': 12.8, 'Unit': 'C', 'UnitType': 17}, 'RealFeelTemperature': {'Value': 13.2, 'Unit': 'C', 'UnitType': 17, 'Phrase': 'Cool'}, 'RealFeelTemperatureShade': {'Value': 13.2, 'Unit': 'C', 'UnitType': 17, 'Phrase': 'Cool'}, 'WetBulbTemperature': {'Value': 11.5, 'Unit': 'C', 'UnitType': 17}, 'DewPoint': {'Value': 10.2, 'Unit': 'C', 'UnitType': 17}, 'Wind': {'Speed': {'Value': 5.6, 'Unit': 'km/h', 'UnitType': 7}, 'Direction': {'Degrees': 63, 'Localized': 'ENE', 'English': 'ENE'}}, 'WindGust': {'Speed': {'Value': 7.4, 'Unit': 'km/h', 'UnitType': 7}}, 'RelativeHumidity': 84, 'IndoorRelativeHumidity': 53, 'Visibility': {'Value': 16.1, 'Unit': 'km', 'UnitType': 6}, 'Ceiling': {'Value': 9144.0, 'Unit': 'm', 'UnitType': 5}, 'UVIndex': 0, 'UVIndexText': 'Low', 'PrecipitationProbability': 12, 'ThunderstormProbability': 0, 'RainProbability': 12, 'SnowProbability': 0, 'IceProbability': 0, 'TotalLiquid': {'Value': 0.0, 'Unit': 'mm', 'UnitType': 3}, 'Rain': {'Value': 0.0, 'Unit': 'mm', 'UnitType': 3}, 'Snow': {'Value': 0.0, 'Unit': 'cm', 'UnitType': 4}, 'Ice': {'Value': 0.0, 'Unit': 'mm', 'UnitType': 3}, 'CloudCover': 76, 'Evapotranspiration': {'Value': 0.0, 'Unit': 'mm', 'UnitType': 3}, 'SolarIrradiance': {'Value': 0.0, 'Unit': 'W/m²', 'UnitType': 33}, 'MobileLink': 'http://www.accuweather.com/en/gb/worcester/wr1-3/hourly-weather-forecast/331595?day=1&hbhhour=2&unit=c&lang=en-us', 'Link': 'http://www.accuweather.com/en/gb/worcester/wr1-3/hourly-weather-forecast/331595?day=1&hbhhour=2&unit=c&lang=en-us'}\n"
     ]
    }
   ],
   "source": [
    "import requests\n",
    "complete_api_link = 'http://dataservice.accuweather.com/forecasts/v1/hourly/12hour/331595?apikey=vnwz1buClrE9YhGJFG3mhNVq23tnIACH&details=true&metric=true'\n",
    "api_link = requests.get(complete_api_link)\n",
    "api_data = api_link.json()\n",
    "print(api_data[1])"
   ]
  },
  {
   "cell_type": "code",
   "execution_count": 68,
   "metadata": {},
   "outputs": [
    {
     "name": "stdout",
     "output_type": "stream",
     "text": [
      "{'DateTime': '2022-06-07T03:00:00+01:00', 'EpochDateTime': 1654567200, 'WeatherIcon': 38, 'IconPhrase': 'Mostly cloudy', 'HasPrecipitation': False, 'IsDaylight': False, 'Temperature': {'Value': 12.4, 'Unit': 'C', 'UnitType': 17}, 'RealFeelTemperature': {'Value': 12.9, 'Unit': 'C', 'UnitType': 17, 'Phrase': 'Cool'}, 'RealFeelTemperatureShade': {'Value': 12.9, 'Unit': 'C', 'UnitType': 17, 'Phrase': 'Cool'}, 'WetBulbTemperature': {'Value': 11.0, 'Unit': 'C', 'UnitType': 17}, 'DewPoint': {'Value': 9.5, 'Unit': 'C', 'UnitType': 17}, 'Wind': {'Speed': {'Value': 3.7, 'Unit': 'km/h', 'UnitType': 7}, 'Direction': {'Degrees': 84, 'Localized': 'E', 'English': 'E'}}, 'WindGust': {'Speed': {'Value': 9.3, 'Unit': 'km/h', 'UnitType': 7}}, 'RelativeHumidity': 83, 'IndoorRelativeHumidity': 51, 'Visibility': {'Value': 13.0, 'Unit': 'km', 'UnitType': 6}, 'Ceiling': {'Value': 9144.0, 'Unit': 'm', 'UnitType': 5}, 'UVIndex': 0, 'UVIndexText': 'Low', 'PrecipitationProbability': 12, 'ThunderstormProbability': 0, 'RainProbability': 12, 'SnowProbability': 0, 'IceProbability': 0, 'TotalLiquid': {'Value': 0.0, 'Unit': 'mm', 'UnitType': 3}, 'Rain': {'Value': 0.0, 'Unit': 'mm', 'UnitType': 3}, 'Snow': {'Value': 0.0, 'Unit': 'cm', 'UnitType': 4}, 'Ice': {'Value': 0.0, 'Unit': 'mm', 'UnitType': 3}, 'CloudCover': 76, 'Evapotranspiration': {'Value': 0.0, 'Unit': 'mm', 'UnitType': 3}, 'SolarIrradiance': {'Value': 0.0, 'Unit': 'W/m²', 'UnitType': 33}, 'MobileLink': 'http://www.accuweather.com/en/gb/worcester/wr1-3/hourly-weather-forecast/331595?day=1&hbhhour=3&unit=c&lang=en-us', 'Link': 'http://www.accuweather.com/en/gb/worcester/wr1-3/hourly-weather-forecast/331595?day=1&hbhhour=3&unit=c&lang=en-us'}\n"
     ]
    }
   ],
   "source": [
    "import requests\n",
    "complete_api_link = 'http://dataservice.accuweather.com/forecasts/v1/hourly/12hour/331595?apikey=vnwz1buClrE9YhGJFG3mhNVq23tnIACH&details=true&metric=true'\n",
    "api_link = requests.get(complete_api_link)\n",
    "api_data = api_link.json()\n",
    "print(api_data[2])"
   ]
  },
  {
   "cell_type": "code",
   "execution_count": 69,
   "metadata": {},
   "outputs": [
    {
     "name": "stdout",
     "output_type": "stream",
     "text": [
      "{'DateTime': '2022-06-07T04:00:00+01:00', 'EpochDateTime': 1654570800, 'WeatherIcon': 38, 'IconPhrase': 'Mostly cloudy', 'HasPrecipitation': False, 'IsDaylight': False, 'Temperature': {'Value': 11.4, 'Unit': 'C', 'UnitType': 17}, 'RealFeelTemperature': {'Value': 12.0, 'Unit': 'C', 'UnitType': 17, 'Phrase': 'Cool'}, 'RealFeelTemperatureShade': {'Value': 12.0, 'Unit': 'C', 'UnitType': 17, 'Phrase': 'Cool'}, 'WetBulbTemperature': {'Value': 10.4, 'Unit': 'C', 'UnitType': 17}, 'DewPoint': {'Value': 9.2, 'Unit': 'C', 'UnitType': 17}, 'Wind': {'Speed': {'Value': 3.7, 'Unit': 'km/h', 'UnitType': 7}, 'Direction': {'Degrees': 133, 'Localized': 'SE', 'English': 'SE'}}, 'WindGust': {'Speed': {'Value': 9.3, 'Unit': 'km/h', 'UnitType': 7}}, 'RelativeHumidity': 86, 'IndoorRelativeHumidity': 50, 'Visibility': {'Value': 9.8, 'Unit': 'km', 'UnitType': 6}, 'Ceiling': {'Value': 9144.0, 'Unit': 'm', 'UnitType': 5}, 'UVIndex': 0, 'UVIndexText': 'Low', 'PrecipitationProbability': 12, 'ThunderstormProbability': 0, 'RainProbability': 12, 'SnowProbability': 0, 'IceProbability': 0, 'TotalLiquid': {'Value': 0.0, 'Unit': 'mm', 'UnitType': 3}, 'Rain': {'Value': 0.0, 'Unit': 'mm', 'UnitType': 3}, 'Snow': {'Value': 0.0, 'Unit': 'cm', 'UnitType': 4}, 'Ice': {'Value': 0.0, 'Unit': 'mm', 'UnitType': 3}, 'CloudCover': 76, 'Evapotranspiration': {'Value': 0.0, 'Unit': 'mm', 'UnitType': 3}, 'SolarIrradiance': {'Value': 0.0, 'Unit': 'W/m²', 'UnitType': 33}, 'MobileLink': 'http://www.accuweather.com/en/gb/worcester/wr1-3/hourly-weather-forecast/331595?day=1&hbhhour=4&unit=c&lang=en-us', 'Link': 'http://www.accuweather.com/en/gb/worcester/wr1-3/hourly-weather-forecast/331595?day=1&hbhhour=4&unit=c&lang=en-us'}\n"
     ]
    }
   ],
   "source": [
    "import requests\n",
    "complete_api_link = 'http://dataservice.accuweather.com/forecasts/v1/hourly/12hour/331595?apikey=vnwz1buClrE9YhGJFG3mhNVq23tnIACH&details=true&metric=true'\n",
    "api_link = requests.get(complete_api_link)\n",
    "api_data = api_link.json()\n",
    "print(api_data[3])"
   ]
  },
  {
   "cell_type": "code",
   "execution_count": 70,
   "metadata": {},
   "outputs": [
    {
     "name": "stdout",
     "output_type": "stream",
     "text": [
      "{'DateTime': '2022-06-07T05:00:00+01:00', 'EpochDateTime': 1654574400, 'WeatherIcon': 11, 'IconPhrase': 'Fog', 'HasPrecipitation': False, 'IsDaylight': True, 'Temperature': {'Value': 10.4, 'Unit': 'C', 'UnitType': 17}, 'RealFeelTemperature': {'Value': 11.0, 'Unit': 'C', 'UnitType': 17, 'Phrase': 'Cool'}, 'RealFeelTemperatureShade': {'Value': 11.0, 'Unit': 'C', 'UnitType': 17, 'Phrase': 'Cool'}, 'WetBulbTemperature': {'Value': 9.7, 'Unit': 'C', 'UnitType': 17}, 'DewPoint': {'Value': 8.8, 'Unit': 'C', 'UnitType': 17}, 'Wind': {'Speed': {'Value': 5.6, 'Unit': 'km/h', 'UnitType': 7}, 'Direction': {'Degrees': 134, 'Localized': 'SE', 'English': 'SE'}}, 'WindGust': {'Speed': {'Value': 9.3, 'Unit': 'km/h', 'UnitType': 7}}, 'RelativeHumidity': 90, 'IndoorRelativeHumidity': 48, 'Visibility': {'Value': 6.7, 'Unit': 'km', 'UnitType': 6}, 'Ceiling': {'Value': 9144.0, 'Unit': 'm', 'UnitType': 5}, 'UVIndex': 0, 'UVIndexText': 'Low', 'PrecipitationProbability': 12, 'ThunderstormProbability': 0, 'RainProbability': 12, 'SnowProbability': 0, 'IceProbability': 0, 'TotalLiquid': {'Value': 0.0, 'Unit': 'mm', 'UnitType': 3}, 'Rain': {'Value': 0.0, 'Unit': 'mm', 'UnitType': 3}, 'Snow': {'Value': 0.0, 'Unit': 'cm', 'UnitType': 4}, 'Ice': {'Value': 0.0, 'Unit': 'mm', 'UnitType': 3}, 'CloudCover': 76, 'Evapotranspiration': {'Value': 0.0, 'Unit': 'mm', 'UnitType': 3}, 'SolarIrradiance': {'Value': 11.5, 'Unit': 'W/m²', 'UnitType': 33}, 'MobileLink': 'http://www.accuweather.com/en/gb/worcester/wr1-3/hourly-weather-forecast/331595?day=1&hbhhour=5&unit=c&lang=en-us', 'Link': 'http://www.accuweather.com/en/gb/worcester/wr1-3/hourly-weather-forecast/331595?day=1&hbhhour=5&unit=c&lang=en-us'}\n"
     ]
    }
   ],
   "source": [
    "import requests\n",
    "complete_api_link = 'http://dataservice.accuweather.com/forecasts/v1/hourly/12hour/331595?apikey=vnwz1buClrE9YhGJFG3mhNVq23tnIACH&details=true&metric=true'\n",
    "api_link = requests.get(complete_api_link)\n",
    "api_data = api_link.json()\n",
    "print(api_data[4])"
   ]
  },
  {
   "cell_type": "code",
   "execution_count": 71,
   "metadata": {},
   "outputs": [
    {
     "name": "stdout",
     "output_type": "stream",
     "text": [
      "{'DateTime': '2022-06-07T06:00:00+01:00', 'EpochDateTime': 1654578000, 'WeatherIcon': 11, 'IconPhrase': 'Fog', 'HasPrecipitation': False, 'IsDaylight': True, 'Temperature': {'Value': 11.2, 'Unit': 'C', 'UnitType': 17}, 'RealFeelTemperature': {'Value': 12.3, 'Unit': 'C', 'UnitType': 17, 'Phrase': 'Cool'}, 'RealFeelTemperatureShade': {'Value': 12.3, 'Unit': 'C', 'UnitType': 17, 'Phrase': 'Cool'}, 'WetBulbTemperature': {'Value': 10.9, 'Unit': 'C', 'UnitType': 17}, 'DewPoint': {'Value': 10.4, 'Unit': 'C', 'UnitType': 17}, 'Wind': {'Speed': {'Value': 5.6, 'Unit': 'km/h', 'UnitType': 7}, 'Direction': {'Degrees': 116, 'Localized': 'ESE', 'English': 'ESE'}}, 'WindGust': {'Speed': {'Value': 9.3, 'Unit': 'km/h', 'UnitType': 7}}, 'RelativeHumidity': 94, 'IndoorRelativeHumidity': 54, 'Visibility': {'Value': 3.5, 'Unit': 'km', 'UnitType': 6}, 'Ceiling': {'Value': 9144.0, 'Unit': 'm', 'UnitType': 5}, 'UVIndex': 1, 'UVIndexText': 'Low', 'PrecipitationProbability': 12, 'ThunderstormProbability': 0, 'RainProbability': 12, 'SnowProbability': 0, 'IceProbability': 0, 'TotalLiquid': {'Value': 0.0, 'Unit': 'mm', 'UnitType': 3}, 'Rain': {'Value': 0.0, 'Unit': 'mm', 'UnitType': 3}, 'Snow': {'Value': 0.0, 'Unit': 'cm', 'UnitType': 4}, 'Ice': {'Value': 0.0, 'Unit': 'mm', 'UnitType': 3}, 'CloudCover': 76, 'Evapotranspiration': {'Value': 0.0, 'Unit': 'mm', 'UnitType': 3}, 'SolarIrradiance': {'Value': 45.0, 'Unit': 'W/m²', 'UnitType': 33}, 'MobileLink': 'http://www.accuweather.com/en/gb/worcester/wr1-3/hourly-weather-forecast/331595?day=1&hbhhour=6&unit=c&lang=en-us', 'Link': 'http://www.accuweather.com/en/gb/worcester/wr1-3/hourly-weather-forecast/331595?day=1&hbhhour=6&unit=c&lang=en-us'}\n"
     ]
    }
   ],
   "source": [
    "import requests\n",
    "complete_api_link = 'http://dataservice.accuweather.com/forecasts/v1/hourly/12hour/331595?apikey=vnwz1buClrE9YhGJFG3mhNVq23tnIACH&details=true&metric=true'\n",
    "api_link = requests.get(complete_api_link)\n",
    "api_data = api_link.json()\n",
    "print(api_data[5])"
   ]
  },
  {
   "cell_type": "code",
   "execution_count": 72,
   "metadata": {},
   "outputs": [
    {
     "name": "stdout",
     "output_type": "stream",
     "text": [
      "{'DateTime': '2022-06-07T07:00:00+01:00', 'EpochDateTime': 1654581600, 'WeatherIcon': 11, 'IconPhrase': 'Fog', 'HasPrecipitation': False, 'IsDaylight': True, 'Temperature': {'Value': 12.2, 'Unit': 'C', 'UnitType': 17}, 'RealFeelTemperature': {'Value': 13.2, 'Unit': 'C', 'UnitType': 17, 'Phrase': 'Cool'}, 'RealFeelTemperatureShade': {'Value': 11.7, 'Unit': 'C', 'UnitType': 17, 'Phrase': 'Cool'}, 'WetBulbTemperature': {'Value': 12.1, 'Unit': 'C', 'UnitType': 17}, 'DewPoint': {'Value': 11.6, 'Unit': 'C', 'UnitType': 17}, 'Wind': {'Speed': {'Value': 5.6, 'Unit': 'km/h', 'UnitType': 7}, 'Direction': {'Degrees': 118, 'Localized': 'ESE', 'English': 'ESE'}}, 'WindGust': {'Speed': {'Value': 11.1, 'Unit': 'km/h', 'UnitType': 7}}, 'RelativeHumidity': 96, 'IndoorRelativeHumidity': 58, 'Visibility': {'Value': 0.4, 'Unit': 'km', 'UnitType': 6}, 'Ceiling': {'Value': 9144.0, 'Unit': 'm', 'UnitType': 5}, 'UVIndex': 1, 'UVIndexText': 'Low', 'PrecipitationProbability': 11, 'ThunderstormProbability': 0, 'RainProbability': 11, 'SnowProbability': 0, 'IceProbability': 0, 'TotalLiquid': {'Value': 0.0, 'Unit': 'mm', 'UnitType': 3}, 'Rain': {'Value': 0.0, 'Unit': 'mm', 'UnitType': 3}, 'Snow': {'Value': 0.0, 'Unit': 'cm', 'UnitType': 4}, 'Ice': {'Value': 0.0, 'Unit': 'mm', 'UnitType': 3}, 'CloudCover': 76, 'Evapotranspiration': {'Value': 0.0, 'Unit': 'mm', 'UnitType': 3}, 'SolarIrradiance': {'Value': 74.0, 'Unit': 'W/m²', 'UnitType': 33}, 'MobileLink': 'http://www.accuweather.com/en/gb/worcester/wr1-3/hourly-weather-forecast/331595?day=1&hbhhour=7&unit=c&lang=en-us', 'Link': 'http://www.accuweather.com/en/gb/worcester/wr1-3/hourly-weather-forecast/331595?day=1&hbhhour=7&unit=c&lang=en-us'}\n"
     ]
    }
   ],
   "source": [
    "import requests\n",
    "complete_api_link = 'http://dataservice.accuweather.com/forecasts/v1/hourly/12hour/331595?apikey=vnwz1buClrE9YhGJFG3mhNVq23tnIACH&details=true&metric=true'\n",
    "api_link = requests.get(complete_api_link)\n",
    "api_data = api_link.json()\n",
    "print(api_data[6])"
   ]
  },
  {
   "cell_type": "code",
   "execution_count": 73,
   "metadata": {},
   "outputs": [
    {
     "name": "stdout",
     "output_type": "stream",
     "text": [
      "{'DateTime': '2022-06-07T08:00:00+01:00', 'EpochDateTime': 1654585200, 'WeatherIcon': 11, 'IconPhrase': 'Fog', 'HasPrecipitation': False, 'IsDaylight': True, 'Temperature': {'Value': 13.6, 'Unit': 'C', 'UnitType': 17}, 'RealFeelTemperature': {'Value': 15.1, 'Unit': 'C', 'UnitType': 17, 'Phrase': 'Cool'}, 'RealFeelTemperatureShade': {'Value': 12.9, 'Unit': 'C', 'UnitType': 17, 'Phrase': 'Cool'}, 'WetBulbTemperature': {'Value': 12.9, 'Unit': 'C', 'UnitType': 17}, 'DewPoint': {'Value': 12.1, 'Unit': 'C', 'UnitType': 17}, 'Wind': {'Speed': {'Value': 7.4, 'Unit': 'km/h', 'UnitType': 7}, 'Direction': {'Degrees': 145, 'Localized': 'SE', 'English': 'SE'}}, 'WindGust': {'Speed': {'Value': 16.7, 'Unit': 'km/h', 'UnitType': 7}}, 'RelativeHumidity': 90, 'IndoorRelativeHumidity': 60, 'Visibility': {'Value': 0.4, 'Unit': 'km', 'UnitType': 6}, 'Ceiling': {'Value': 9144.0, 'Unit': 'm', 'UnitType': 5}, 'UVIndex': 2, 'UVIndexText': 'Low', 'PrecipitationProbability': 9, 'ThunderstormProbability': 1, 'RainProbability': 9, 'SnowProbability': 0, 'IceProbability': 0, 'TotalLiquid': {'Value': 0.0, 'Unit': 'mm', 'UnitType': 3}, 'Rain': {'Value': 0.0, 'Unit': 'mm', 'UnitType': 3}, 'Snow': {'Value': 0.0, 'Unit': 'cm', 'UnitType': 4}, 'Ice': {'Value': 0.0, 'Unit': 'mm', 'UnitType': 3}, 'CloudCover': 76, 'Evapotranspiration': {'Value': 0.0, 'Unit': 'mm', 'UnitType': 3}, 'SolarIrradiance': {'Value': 98.6, 'Unit': 'W/m²', 'UnitType': 33}, 'MobileLink': 'http://www.accuweather.com/en/gb/worcester/wr1-3/hourly-weather-forecast/331595?day=1&hbhhour=8&unit=c&lang=en-us', 'Link': 'http://www.accuweather.com/en/gb/worcester/wr1-3/hourly-weather-forecast/331595?day=1&hbhhour=8&unit=c&lang=en-us'}\n"
     ]
    }
   ],
   "source": [
    "import requests\n",
    "complete_api_link = 'http://dataservice.accuweather.com/forecasts/v1/hourly/12hour/331595?apikey=vnwz1buClrE9YhGJFG3mhNVq23tnIACH&details=true&metric=true'\n",
    "api_link = requests.get(complete_api_link)\n",
    "api_data = api_link.json()\n",
    "print(api_data[7])"
   ]
  },
  {
   "cell_type": "code",
   "execution_count": 74,
   "metadata": {},
   "outputs": [
    {
     "name": "stdout",
     "output_type": "stream",
     "text": [
      "{'DateTime': '2022-06-07T09:00:00+01:00', 'EpochDateTime': 1654588800, 'WeatherIcon': 11, 'IconPhrase': 'Fog', 'HasPrecipitation': False, 'IsDaylight': True, 'Temperature': {'Value': 14.9, 'Unit': 'C', 'UnitType': 17}, 'RealFeelTemperature': {'Value': 17.5, 'Unit': 'C', 'UnitType': 17, 'Phrase': 'Pleasant'}, 'RealFeelTemperatureShade': {'Value': 14.5, 'Unit': 'C', 'UnitType': 17, 'Phrase': 'Cool'}, 'WetBulbTemperature': {'Value': 13.3, 'Unit': 'C', 'UnitType': 17}, 'DewPoint': {'Value': 11.9, 'Unit': 'C', 'UnitType': 17}, 'Wind': {'Speed': {'Value': 7.4, 'Unit': 'km/h', 'UnitType': 7}, 'Direction': {'Degrees': 172, 'Localized': 'S', 'English': 'S'}}, 'WindGust': {'Speed': {'Value': 18.5, 'Unit': 'km/h', 'UnitType': 7}}, 'RelativeHumidity': 82, 'IndoorRelativeHumidity': 59, 'Visibility': {'Value': 3.5, 'Unit': 'km', 'UnitType': 6}, 'Ceiling': {'Value': 9144.0, 'Unit': 'm', 'UnitType': 5}, 'UVIndex': 3, 'UVIndexText': 'Moderate', 'PrecipitationProbability': 9, 'ThunderstormProbability': 1, 'RainProbability': 9, 'SnowProbability': 0, 'IceProbability': 0, 'TotalLiquid': {'Value': 0.0, 'Unit': 'mm', 'UnitType': 3}, 'Rain': {'Value': 0.0, 'Unit': 'mm', 'UnitType': 3}, 'Snow': {'Value': 0.0, 'Unit': 'cm', 'UnitType': 4}, 'Ice': {'Value': 0.0, 'Unit': 'mm', 'UnitType': 3}, 'CloudCover': 76, 'Evapotranspiration': {'Value': 0.3, 'Unit': 'mm', 'UnitType': 3}, 'SolarIrradiance': {'Value': 118.7, 'Unit': 'W/m²', 'UnitType': 33}, 'MobileLink': 'http://www.accuweather.com/en/gb/worcester/wr1-3/hourly-weather-forecast/331595?day=1&hbhhour=9&unit=c&lang=en-us', 'Link': 'http://www.accuweather.com/en/gb/worcester/wr1-3/hourly-weather-forecast/331595?day=1&hbhhour=9&unit=c&lang=en-us'}\n"
     ]
    }
   ],
   "source": [
    "import requests\n",
    "complete_api_link = 'http://dataservice.accuweather.com/forecasts/v1/hourly/12hour/331595?apikey=vnwz1buClrE9YhGJFG3mhNVq23tnIACH&details=true&metric=true'\n",
    "api_link = requests.get(complete_api_link)\n",
    "api_data = api_link.json()\n",
    "print(api_data[8])"
   ]
  },
  {
   "cell_type": "code",
   "execution_count": 75,
   "metadata": {},
   "outputs": [
    {
     "name": "stdout",
     "output_type": "stream",
     "text": [
      "{'DateTime': '2022-06-07T10:00:00+01:00', 'EpochDateTime': 1654592400, 'WeatherIcon': 11, 'IconPhrase': 'Fog', 'HasPrecipitation': False, 'IsDaylight': True, 'Temperature': {'Value': 16.0, 'Unit': 'C', 'UnitType': 17}, 'RealFeelTemperature': {'Value': 19.0, 'Unit': 'C', 'UnitType': 17, 'Phrase': 'Pleasant'}, 'RealFeelTemperatureShade': {'Value': 15.4, 'Unit': 'C', 'UnitType': 17, 'Phrase': 'Cool'}, 'WetBulbTemperature': {'Value': 13.6, 'Unit': 'C', 'UnitType': 17}, 'DewPoint': {'Value': 11.4, 'Unit': 'C', 'UnitType': 17}, 'Wind': {'Speed': {'Value': 9.3, 'Unit': 'km/h', 'UnitType': 7}, 'Direction': {'Degrees': 188, 'Localized': 'S', 'English': 'S'}}, 'WindGust': {'Speed': {'Value': 22.2, 'Unit': 'km/h', 'UnitType': 7}}, 'RelativeHumidity': 74, 'IndoorRelativeHumidity': 58, 'Visibility': {'Value': 6.7, 'Unit': 'km', 'UnitType': 6}, 'Ceiling': {'Value': 9144.0, 'Unit': 'm', 'UnitType': 5}, 'UVIndex': 3, 'UVIndexText': 'Moderate', 'PrecipitationProbability': 13, 'ThunderstormProbability': 2, 'RainProbability': 13, 'SnowProbability': 0, 'IceProbability': 0, 'TotalLiquid': {'Value': 0.0, 'Unit': 'mm', 'UnitType': 3}, 'Rain': {'Value': 0.0, 'Unit': 'mm', 'UnitType': 3}, 'Snow': {'Value': 0.0, 'Unit': 'cm', 'UnitType': 4}, 'Ice': {'Value': 0.0, 'Unit': 'mm', 'UnitType': 3}, 'CloudCover': 76, 'Evapotranspiration': {'Value': 0.3, 'Unit': 'mm', 'UnitType': 3}, 'SolarIrradiance': {'Value': 134.3, 'Unit': 'W/m²', 'UnitType': 33}, 'MobileLink': 'http://www.accuweather.com/en/gb/worcester/wr1-3/hourly-weather-forecast/331595?day=1&hbhhour=10&unit=c&lang=en-us', 'Link': 'http://www.accuweather.com/en/gb/worcester/wr1-3/hourly-weather-forecast/331595?day=1&hbhhour=10&unit=c&lang=en-us'}\n"
     ]
    }
   ],
   "source": [
    "import requests\n",
    "complete_api_link = 'http://dataservice.accuweather.com/forecasts/v1/hourly/12hour/331595?apikey=vnwz1buClrE9YhGJFG3mhNVq23tnIACH&details=true&metric=true'\n",
    "api_link = requests.get(complete_api_link)\n",
    "api_data = api_link.json()\n",
    "print(api_data[9])"
   ]
  },
  {
   "cell_type": "code",
   "execution_count": 76,
   "metadata": {},
   "outputs": [
    {
     "name": "stdout",
     "output_type": "stream",
     "text": [
      "{'DateTime': '2022-06-07T11:00:00+01:00', 'EpochDateTime': 1654596000, 'WeatherIcon': 12, 'IconPhrase': 'Showers', 'HasPrecipitation': True, 'PrecipitationType': 'Rain', 'PrecipitationIntensity': 'Light', 'IsDaylight': True, 'Temperature': {'Value': 17.4, 'Unit': 'C', 'UnitType': 17}, 'RealFeelTemperature': {'Value': 19.4, 'Unit': 'C', 'UnitType': 17, 'Phrase': 'Pleasant'}, 'RealFeelTemperatureShade': {'Value': 15.6, 'Unit': 'C', 'UnitType': 17, 'Phrase': 'Cool'}, 'WetBulbTemperature': {'Value': 13.8, 'Unit': 'C', 'UnitType': 17}, 'DewPoint': {'Value': 10.8, 'Unit': 'C', 'UnitType': 17}, 'Wind': {'Speed': {'Value': 9.3, 'Unit': 'km/h', 'UnitType': 7}, 'Direction': {'Degrees': 203, 'Localized': 'SSW', 'English': 'SSW'}}, 'WindGust': {'Speed': {'Value': 18.5, 'Unit': 'km/h', 'UnitType': 7}}, 'RelativeHumidity': 65, 'IndoorRelativeHumidity': 55, 'Visibility': {'Value': 9.8, 'Unit': 'km', 'UnitType': 6}, 'Ceiling': {'Value': 9144.0, 'Unit': 'm', 'UnitType': 5}, 'UVIndex': 4, 'UVIndexText': 'Moderate', 'PrecipitationProbability': 51, 'ThunderstormProbability': 10, 'RainProbability': 51, 'SnowProbability': 0, 'IceProbability': 0, 'TotalLiquid': {'Value': 0.3, 'Unit': 'mm', 'UnitType': 3}, 'Rain': {'Value': 0.3, 'Unit': 'mm', 'UnitType': 3}, 'Snow': {'Value': 0.0, 'Unit': 'cm', 'UnitType': 4}, 'Ice': {'Value': 0.0, 'Unit': 'mm', 'UnitType': 3}, 'CloudCover': 76, 'Evapotranspiration': {'Value': 0.3, 'Unit': 'mm', 'UnitType': 3}, 'SolarIrradiance': {'Value': 145.4, 'Unit': 'W/m²', 'UnitType': 33}, 'MobileLink': 'http://www.accuweather.com/en/gb/worcester/wr1-3/hourly-weather-forecast/331595?day=1&hbhhour=11&unit=c&lang=en-us', 'Link': 'http://www.accuweather.com/en/gb/worcester/wr1-3/hourly-weather-forecast/331595?day=1&hbhhour=11&unit=c&lang=en-us'}\n"
     ]
    }
   ],
   "source": [
    "import requests\n",
    "complete_api_link = 'http://dataservice.accuweather.com/forecasts/v1/hourly/12hour/331595?apikey=vnwz1buClrE9YhGJFG3mhNVq23tnIACH&details=true&metric=true'\n",
    "api_link = requests.get(complete_api_link)\n",
    "api_data = api_link.json()\n",
    "print(api_data[10])"
   ]
  },
  {
   "cell_type": "code",
   "execution_count": 77,
   "metadata": {},
   "outputs": [
    {
     "name": "stdout",
     "output_type": "stream",
     "text": [
      "{'DateTime': '2022-06-07T12:00:00+01:00', 'EpochDateTime': 1654599600, 'WeatherIcon': 6, 'IconPhrase': 'Mostly cloudy', 'HasPrecipitation': False, 'IsDaylight': True, 'Temperature': {'Value': 18.5, 'Unit': 'C', 'UnitType': 17}, 'RealFeelTemperature': {'Value': 22.1, 'Unit': 'C', 'UnitType': 17, 'Phrase': 'Pleasant'}, 'RealFeelTemperatureShade': {'Value': 17.1, 'Unit': 'C', 'UnitType': 17, 'Phrase': 'Pleasant'}, 'WetBulbTemperature': {'Value': 13.7, 'Unit': 'C', 'UnitType': 17}, 'DewPoint': {'Value': 10.2, 'Unit': 'C', 'UnitType': 17}, 'Wind': {'Speed': {'Value': 9.3, 'Unit': 'km/h', 'UnitType': 7}, 'Direction': {'Degrees': 214, 'Localized': 'SW', 'English': 'SW'}}, 'WindGust': {'Speed': {'Value': 11.1, 'Unit': 'km/h', 'UnitType': 7}}, 'RelativeHumidity': 58, 'IndoorRelativeHumidity': 53, 'Visibility': {'Value': 13.0, 'Unit': 'km', 'UnitType': 6}, 'Ceiling': {'Value': 9144.0, 'Unit': 'm', 'UnitType': 5}, 'UVIndex': 6, 'UVIndexText': 'High', 'PrecipitationProbability': 47, 'ThunderstormProbability': 9, 'RainProbability': 47, 'SnowProbability': 0, 'IceProbability': 0, 'TotalLiquid': {'Value': 0.0, 'Unit': 'mm', 'UnitType': 3}, 'Rain': {'Value': 0.0, 'Unit': 'mm', 'UnitType': 3}, 'Snow': {'Value': 0.0, 'Unit': 'cm', 'UnitType': 4}, 'Ice': {'Value': 0.0, 'Unit': 'mm', 'UnitType': 3}, 'CloudCover': 76, 'Evapotranspiration': {'Value': 0.3, 'Unit': 'mm', 'UnitType': 3}, 'SolarIrradiance': {'Value': 152.1, 'Unit': 'W/m²', 'UnitType': 33}, 'MobileLink': 'http://www.accuweather.com/en/gb/worcester/wr1-3/hourly-weather-forecast/331595?day=1&hbhhour=12&unit=c&lang=en-us', 'Link': 'http://www.accuweather.com/en/gb/worcester/wr1-3/hourly-weather-forecast/331595?day=1&hbhhour=12&unit=c&lang=en-us'}\n"
     ]
    }
   ],
   "source": [
    "import requests\n",
    "complete_api_link = 'http://dataservice.accuweather.com/forecasts/v1/hourly/12hour/331595?apikey=vnwz1buClrE9YhGJFG3mhNVq23tnIACH&details=true&metric=true'\n",
    "api_link = requests.get(complete_api_link)\n",
    "api_data = api_link.json()\n",
    "print(api_data[11])"
   ]
  },
  {
   "cell_type": "code",
   "execution_count": 78,
   "metadata": {},
   "outputs": [
    {
     "ename": "IndexError",
     "evalue": "list index out of range",
     "output_type": "error",
     "traceback": [
      "\u001b[1;31m---------------------------------------------------------------------------\u001b[0m",
      "\u001b[1;31mIndexError\u001b[0m                                Traceback (most recent call last)",
      "\u001b[1;32m<ipython-input-78-b71473f3039e>\u001b[0m in \u001b[0;36m<module>\u001b[1;34m\u001b[0m\n\u001b[0;32m      3\u001b[0m \u001b[0mapi_link\u001b[0m \u001b[1;33m=\u001b[0m \u001b[0mrequests\u001b[0m\u001b[1;33m.\u001b[0m\u001b[0mget\u001b[0m\u001b[1;33m(\u001b[0m\u001b[0mcomplete_api_link\u001b[0m\u001b[1;33m)\u001b[0m\u001b[1;33m\u001b[0m\u001b[1;33m\u001b[0m\u001b[0m\n\u001b[0;32m      4\u001b[0m \u001b[0mapi_data\u001b[0m \u001b[1;33m=\u001b[0m \u001b[0mapi_link\u001b[0m\u001b[1;33m.\u001b[0m\u001b[0mjson\u001b[0m\u001b[1;33m(\u001b[0m\u001b[1;33m)\u001b[0m\u001b[1;33m\u001b[0m\u001b[1;33m\u001b[0m\u001b[0m\n\u001b[1;32m----> 5\u001b[1;33m \u001b[0mprint\u001b[0m\u001b[1;33m(\u001b[0m\u001b[0mapi_data\u001b[0m\u001b[1;33m[\u001b[0m\u001b[1;36m12\u001b[0m\u001b[1;33m]\u001b[0m\u001b[1;33m)\u001b[0m\u001b[1;33m\u001b[0m\u001b[1;33m\u001b[0m\u001b[0m\n\u001b[0m",
      "\u001b[1;31mIndexError\u001b[0m: list index out of range"
     ]
    }
   ],
   "source": [
    "import requests\n",
    "complete_api_link = 'http://dataservice.accuweather.com/forecasts/v1/hourly/12hour/331595?apikey=vnwz1buClrE9YhGJFG3mhNVq23tnIACH&details=true&metric=true'\n",
    "api_link = requests.get(complete_api_link)\n",
    "api_data = api_link.json()\n",
    "print(api_data[12])"
   ]
  },
  {
   "cell_type": "code",
   "execution_count": null,
   "metadata": {},
   "outputs": [],
   "source": []
  }
 ],
 "metadata": {
  "kernelspec": {
   "display_name": "Python 3",
   "language": "python",
   "name": "python3"
  },
  "language_info": {
   "codemirror_mode": {
    "name": "ipython",
    "version": 3
   },
   "file_extension": ".py",
   "mimetype": "text/x-python",
   "name": "python",
   "nbconvert_exporter": "python",
   "pygments_lexer": "ipython3",
   "version": "3.8.3"
  }
 },
 "nbformat": 4,
 "nbformat_minor": 4
}
