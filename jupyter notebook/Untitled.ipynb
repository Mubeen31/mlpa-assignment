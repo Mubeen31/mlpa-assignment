{
 "cells": [
  {
   "cell_type": "code",
   "execution_count": 1,
   "metadata": {},
   "outputs": [],
   "source": [
    "import pandas as pd\n",
    "\n",
    "header_list = ['Date Time', 'Voltage', 'Current']\n",
    "df = pd.read_csv('sensors_data.csv', names = header_list)\n",
    "df['Date Time'] = pd.to_datetime(df['Date Time'])\n",
    "df['Date'] = df['Date Time'].dt.date\n",
    "df['Date'] = pd.to_datetime(df['Date'])\n",
    "df['Month'] = pd.to_datetime(df['Date']).dt.month"
   ]
  },
  {
   "cell_type": "code",
   "execution_count": 2,
   "metadata": {},
   "outputs": [],
   "source": [
    "today_date = df['Date'].unique()"
   ]
  },
  {
   "cell_type": "code",
   "execution_count": 3,
   "metadata": {},
   "outputs": [
    {
     "name": "stdout",
     "output_type": "stream",
     "text": [
      "9.686460202156326\n"
     ]
    }
   ],
   "source": [
    "today_voltage = df[df['Date'] == today_date[-1]]['Voltage'].mean()\n",
    "print(today_voltage)"
   ]
  },
  {
   "cell_type": "code",
   "execution_count": 4,
   "metadata": {},
   "outputs": [],
   "source": [
    "unique_month = df['Month'].unique()"
   ]
  },
  {
   "cell_type": "code",
   "execution_count": 5,
   "metadata": {},
   "outputs": [
    {
     "name": "stdout",
     "output_type": "stream",
     "text": [
      "11.361273253558853\n"
     ]
    }
   ],
   "source": [
    "this_month = df[df['Month'] == unique_month[-1]]['Voltage'].mean()\n",
    "print(this_month)"
   ]
  },
  {
   "cell_type": "code",
   "execution_count": 6,
   "metadata": {},
   "outputs": [
    {
     "name": "stdout",
     "output_type": "stream",
     "text": [
      "01:00\n"
     ]
    }
   ],
   "source": [
    "header_list = ['Time', 'Weather Status', 'Temperature', 'Real Feel Temperature', 'Precipitation']\n",
    "df = pd.read_csv('first_hour_forecast_data.csv', names = header_list)\n",
    "df['Time'] = pd.to_datetime(df['Time'])\n",
    "df['time'] = pd.to_datetime(df['Time']).dt.time\n",
    "print(df['time'].iloc[-1].strftime('%H:%M'))"
   ]
  },
  {
   "cell_type": "code",
   "execution_count": 7,
   "metadata": {},
   "outputs": [
    {
     "name": "stdout",
     "output_type": "stream",
     "text": [
      "15:31:04\n"
     ]
    }
   ],
   "source": [
    "from datetime import datetime\n",
    "now = datetime.now()\n",
    "time_name = now.strftime('%H:%M:%S')\n",
    "print(time_name)"
   ]
  },
  {
   "cell_type": "code",
   "execution_count": 8,
   "metadata": {},
   "outputs": [],
   "source": [
    "import pandas as pd\n",
    "\n",
    "header_list = ['Date Time', 'Voltage', 'Current']\n",
    "df = pd.read_csv('sensors_data.csv', names = header_list)\n",
    "df['Power (W)'] = df['Voltage'] * df['Current']\n",
    "df['Power (KW)'] = df['Power (W)'] / 1000\n",
    "df['Date Time'] = pd.to_datetime(df['Date Time'])\n",
    "df['Date'] = df['Date Time'].dt.date\n",
    "df['Date'] = pd.to_datetime(df['Date'])\n",
    "df['Month'] = pd.to_datetime(df['Date']).dt.month\n",
    "df['time'] = pd.to_datetime(df['Date Time']).dt.time\n",
    "df['hour'] = pd.to_datetime(df['Date Time']).dt.hour\n",
    "df['time'].iloc[-1].strftime('%H:%M')\n",
    "df['time'] = df['time'].astype(str)\n",
    "df['hour'] = df['hour'].astype(str)"
   ]
  },
  {
   "cell_type": "code",
   "execution_count": 9,
   "metadata": {},
   "outputs": [
    {
     "name": "stdout",
     "output_type": "stream",
     "text": [
      "               Date Time   Voltage  Current  Power (W)  Power (KW)       Date  \\\n",
      "7067 2022-06-04 12:14:05  13.54980  0.34799   4.715195    0.004715 2022-06-04   \n",
      "7068 2022-06-04 12:15:05  13.54980  0.34185   4.631999    0.004632 2022-06-04   \n",
      "7069 2022-06-04 12:16:05  13.57422  0.34850   4.730616    0.004731 2022-06-04   \n",
      "7070 2022-06-04 12:17:05  13.54980  0.35960   4.872508    0.004873 2022-06-04   \n",
      "7071 2022-06-04 12:18:05  13.54980  0.35614   4.825626    0.004826 2022-06-04   \n",
      "7072 2022-06-04 12:19:05  13.57422  0.34807   4.724779    0.004725 2022-06-04   \n",
      "7073 2022-06-04 12:20:06  13.54980  0.35176   4.766278    0.004766 2022-06-04   \n",
      "7074 2022-06-04 12:21:06  13.57422  0.35302   4.791971    0.004792 2022-06-04   \n",
      "7075 2022-06-04 12:22:06  13.54980  0.35761   4.845544    0.004846 2022-06-04   \n",
      "7076 2022-06-04 12:23:06  13.57422  0.35910   4.874502    0.004875 2022-06-04   \n",
      "\n",
      "      Month      time hour  \n",
      "7067      6  12:14:05   12  \n",
      "7068      6  12:15:05   12  \n",
      "7069      6  12:16:05   12  \n",
      "7070      6  12:17:05   12  \n",
      "7071      6  12:18:05   12  \n",
      "7072      6  12:19:05   12  \n",
      "7073      6  12:20:06   12  \n",
      "7074      6  12:21:06   12  \n",
      "7075      6  12:22:06   12  \n",
      "7076      6  12:23:06   12  \n"
     ]
    }
   ],
   "source": [
    "print(df.tail(10))"
   ]
  },
  {
   "cell_type": "code",
   "execution_count": 10,
   "metadata": {},
   "outputs": [
    {
     "name": "stdout",
     "output_type": "stream",
     "text": [
      "['2022-05-03T00:00:00.000000000' '2022-05-04T00:00:00.000000000'\n",
      " '2022-05-05T00:00:00.000000000' '2022-05-27T00:00:00.000000000'\n",
      " '2022-05-30T00:00:00.000000000' '2022-05-31T00:00:00.000000000'\n",
      " '2022-06-01T00:00:00.000000000' '2022-06-02T00:00:00.000000000'\n",
      " '2022-06-03T00:00:00.000000000' '2022-06-04T00:00:00.000000000']\n"
     ]
    }
   ],
   "source": [
    "today_date = df['Date'].unique()\n",
    "print(today_date)"
   ]
  },
  {
   "cell_type": "code",
   "execution_count": 18,
   "metadata": {},
   "outputs": [
    {
     "data": {
      "text/plain": [
       "0.0"
      ]
     },
     "execution_count": 18,
     "metadata": {},
     "output_type": "execute_result"
    }
   ],
   "source": [
    "first_hour = df[(df['Date'] == today_date[-2]) & (df['time'] >= '00:00:00') & (df['time'] <= '00:59:59')]\n",
    "first_hour_energy = first_hour['Power (KW)'].sum()\n",
    "first_hour_energy "
   ]
  },
  {
   "cell_type": "code",
   "execution_count": 74,
   "metadata": {},
   "outputs": [
    {
     "data": {
      "text/plain": [
       "0.0"
      ]
     },
     "execution_count": 74,
     "metadata": {},
     "output_type": "execute_result"
    }
   ],
   "source": [
    "second_hour = df[(df['Date'] == today_date[-2]) & (df['time'] >= '01:00:00') & (df['time'] <= '01:59:59')]\n",
    "second_hour_energy = second_hour['Power (KW)'].sum()\n",
    "second_hour_energy "
   ]
  },
  {
   "cell_type": "code",
   "execution_count": 31,
   "metadata": {},
   "outputs": [
    {
     "data": {
      "text/plain": [
       "0.0"
      ]
     },
     "execution_count": 31,
     "metadata": {},
     "output_type": "execute_result"
    }
   ],
   "source": [
    "third_hour = df[(df['Date'] == today_date[-2]) & (df['time'] >= '02:00:00') & (df['time'] <= '02:59:59')]\n",
    "third_hour_energy = third_hour['Power (KW)'].sum()\n",
    "third_hour_energy "
   ]
  },
  {
   "cell_type": "code",
   "execution_count": 32,
   "metadata": {},
   "outputs": [
    {
     "data": {
      "text/plain": [
       "0.0"
      ]
     },
     "execution_count": 32,
     "metadata": {},
     "output_type": "execute_result"
    }
   ],
   "source": [
    "fourth_hour = df[(df['Date'] == today_date[-2]) & (df['time'] >= '03:00:00') & (df['time'] <= '03:59:59')]\n",
    "fourth_hour_energy = fourth_hour['Power (KW)'].sum()\n",
    "fourth_hour_energy "
   ]
  },
  {
   "cell_type": "code",
   "execution_count": 33,
   "metadata": {},
   "outputs": [
    {
     "data": {
      "text/plain": [
       "0.0"
      ]
     },
     "execution_count": 33,
     "metadata": {},
     "output_type": "execute_result"
    }
   ],
   "source": [
    "fifth_hour = df[(df['Date'] == today_date[-2]) & (df['time'] >= '04:00:00') & (df['time'] <= '04:59:59')]\n",
    "fifth_hour_energy = fifth_hour['Power (KW)'].sum()\n",
    "fifth_hour_energy "
   ]
  },
  {
   "cell_type": "code",
   "execution_count": 38,
   "metadata": {},
   "outputs": [
    {
     "data": {
      "text/plain": [
       "0.0"
      ]
     },
     "execution_count": 38,
     "metadata": {},
     "output_type": "execute_result"
    }
   ],
   "source": [
    "sixth_hour = df[(df['Date'] == today_date[-2]) & (df['time'] >= '05:00:00') & (df['time'] <= '05:59:59')]\n",
    "sixth_hour_energy = sixth_hour['Power (KW)'].sum()\n",
    "sixth_hour_energy "
   ]
  },
  {
   "cell_type": "code",
   "execution_count": 40,
   "metadata": {},
   "outputs": [
    {
     "data": {
      "text/plain": [
       "0.0332725584705"
      ]
     },
     "execution_count": 40,
     "metadata": {},
     "output_type": "execute_result"
    }
   ],
   "source": [
    "seventh_hour = df[(df['Date'] == today_date[-2]) & (df['time'] >= '06:00:00') & (df['time'] <= '06:59:59')]\n",
    "seventh_hour_energy = seventh_hour['Power (KW)'].sum()\n",
    "seventh_hour_energy "
   ]
  },
  {
   "cell_type": "code",
   "execution_count": 41,
   "metadata": {},
   "outputs": [
    {
     "data": {
      "text/plain": [
       "0.1896419769075"
      ]
     },
     "execution_count": 41,
     "metadata": {},
     "output_type": "execute_result"
    }
   ],
   "source": [
    "eighth_hour = df[(df['Date'] == today_date[-2]) & (df['time'] >= '07:00:00') & (df['time'] <= '07:59:59')]\n",
    "eighth_hour_energy = eighth_hour['Power (KW)'].sum()\n",
    "eighth_hour_energy "
   ]
  },
  {
   "cell_type": "code",
   "execution_count": 69,
   "metadata": {},
   "outputs": [
    {
     "data": {
      "text/plain": [
       "0.5147752026598"
      ]
     },
     "execution_count": 69,
     "metadata": {},
     "output_type": "execute_result"
    }
   ],
   "source": [
    "nineth_hour = df[(df['Date'] == today_date[-2]) & (df['time'] >= '08:00:00') & (df['time'] <= '08:59:59')]\n",
    "nineth_hour_energy = nineth_hour['Power (KW)'].sum()\n",
    "nineth_hour_energy "
   ]
  },
  {
   "cell_type": "code",
   "execution_count": 43,
   "metadata": {},
   "outputs": [
    {
     "data": {
      "text/plain": [
       "0.4665510244516"
      ]
     },
     "execution_count": 43,
     "metadata": {},
     "output_type": "execute_result"
    }
   ],
   "source": [
    "tenth_hour = df[(df['Date'] == today_date[-2]) & (df['time'] >= '09:00:00') & (df['time'] <= '09:59:59')]\n",
    "tenth_hour_energy = tenth_hour['Power (KW)'].sum()\n",
    "tenth_hour_energy "
   ]
  },
  {
   "cell_type": "code",
   "execution_count": 44,
   "metadata": {},
   "outputs": [
    {
     "data": {
      "text/plain": [
       "0.22320791482390004"
      ]
     },
     "execution_count": 44,
     "metadata": {},
     "output_type": "execute_result"
    }
   ],
   "source": [
    "eleventh_hour = df[(df['Date'] == today_date[-2]) & (df['time'] >= '10:00:00') & (df['time'] <= '10:59:59')]\n",
    "eleventh_hour_energy = eleventh_hour['Power (KW)'].sum()\n",
    "eleventh_hour_energy "
   ]
  },
  {
   "cell_type": "code",
   "execution_count": 60,
   "metadata": {},
   "outputs": [
    {
     "data": {
      "text/plain": [
       "0.6316041114690003"
      ]
     },
     "execution_count": 60,
     "metadata": {},
     "output_type": "execute_result"
    }
   ],
   "source": [
    "twelth_hour = df[(df['Date'] == today_date[-2]) & (df['time'] >= '11:00:00') & (df['time'] <= '11:59:59')]\n",
    "twelth_hour_energy = twelth_hour['Power (KW)'].sum()\n",
    "twelth_hour_energy "
   ]
  },
  {
   "cell_type": "code",
   "execution_count": 61,
   "metadata": {},
   "outputs": [
    {
     "data": {
      "text/plain": [
       "1.1240025817993997"
      ]
     },
     "execution_count": 61,
     "metadata": {},
     "output_type": "execute_result"
    }
   ],
   "source": [
    "thirteenth_hour = df[(df['Date'] == today_date[-2]) & (df['time'] >= '12:00:00') & (df['time'] <= '12:59:59')]\n",
    "thirteenth_hour_energy = thirteenth_hour['Power (KW)'].sum()\n",
    "thirteenth_hour_energy "
   ]
  },
  {
   "cell_type": "code",
   "execution_count": 47,
   "metadata": {},
   "outputs": [
    {
     "data": {
      "text/plain": [
       "1.1672356086818998"
      ]
     },
     "execution_count": 47,
     "metadata": {},
     "output_type": "execute_result"
    }
   ],
   "source": [
    "fourteenth_hour = df[(df['Date'] == today_date[-2]) & (df['time'] >= '13:00:00') & (df['time'] <= '13:59:59')]\n",
    "fourteenth_hour_energy = fourteenth_hour['Power (KW)'].sum()\n",
    "fourteenth_hour_energy "
   ]
  },
  {
   "cell_type": "code",
   "execution_count": 48,
   "metadata": {},
   "outputs": [
    {
     "data": {
      "text/plain": [
       "0.5299493504381001"
      ]
     },
     "execution_count": 48,
     "metadata": {},
     "output_type": "execute_result"
    }
   ],
   "source": [
    "fifteenth_hour = df[(df['Date'] == today_date[-2]) & (df['time'] >= '14:00:00') & (df['time'] <= '14:59:59')]\n",
    "fifteenth_hour_energy = fifteenth_hour['Power (KW)'].sum()\n",
    "fifteenth_hour_energy "
   ]
  },
  {
   "cell_type": "code",
   "execution_count": 62,
   "metadata": {},
   "outputs": [
    {
     "data": {
      "text/plain": [
       "0.5827194744243"
      ]
     },
     "execution_count": 62,
     "metadata": {},
     "output_type": "execute_result"
    }
   ],
   "source": [
    "sixteenth_hour = df[(df['Date'] == today_date[-2]) & (df['time'] >= '15:00:00') & (df['time'] <= '15:59:59')]\n",
    "sixteenth_hour_energy = sixteenth_hour['Power (KW)'].sum()\n",
    "sixteenth_hour_energy "
   ]
  },
  {
   "cell_type": "code",
   "execution_count": 50,
   "metadata": {},
   "outputs": [
    {
     "data": {
      "text/plain": [
       "0.1289209811032"
      ]
     },
     "execution_count": 50,
     "metadata": {},
     "output_type": "execute_result"
    }
   ],
   "source": [
    "seventeenth_hour = df[(df['Date'] == today_date[-2]) & (df['time'] >= '16:00:00') & (df['time'] <= '16:59:59')]\n",
    "seventeenth_hour_energy = seventeenth_hour['Power (KW)'].sum()\n",
    "seventeenth_hour_energy "
   ]
  },
  {
   "cell_type": "code",
   "execution_count": 51,
   "metadata": {},
   "outputs": [
    {
     "data": {
      "text/plain": [
       "0.17050238389530004"
      ]
     },
     "execution_count": 51,
     "metadata": {},
     "output_type": "execute_result"
    }
   ],
   "source": [
    "eighteenth_hour = df[(df['Date'] == today_date[-2]) & (df['time'] >= '17:00:00') & (df['time'] <= '17:59:59')]\n",
    "eighteenth_hour_energy = eighteenth_hour['Power (KW)'].sum()\n",
    "eighteenth_hour_energy "
   ]
  },
  {
   "cell_type": "code",
   "execution_count": 63,
   "metadata": {},
   "outputs": [
    {
     "data": {
      "text/plain": [
       "0.41817140718089996"
      ]
     },
     "execution_count": 63,
     "metadata": {},
     "output_type": "execute_result"
    }
   ],
   "source": [
    "nineteenth_hour = df[(df['Date'] == today_date[-2]) & (df['time'] >= '18:00:00') & (df['time'] <= '18:59:59')]\n",
    "nineteenth_hour_energy = nineteenth_hour['Power (KW)'].sum()\n",
    "nineteenth_hour_energy "
   ]
  },
  {
   "cell_type": "code",
   "execution_count": 53,
   "metadata": {},
   "outputs": [
    {
     "data": {
      "text/plain": [
       "0.2756949578167"
      ]
     },
     "execution_count": 53,
     "metadata": {},
     "output_type": "execute_result"
    }
   ],
   "source": [
    "twenteeth_hour = df[(df['Date'] == today_date[-2]) & (df['time'] >= '19:00:00') & (df['time'] <= '19:59:59')]\n",
    "twenteeth_hour_energy = twenteeth_hour['Power (KW)'].sum()\n",
    "twenteeth_hour_energy "
   ]
  },
  {
   "cell_type": "code",
   "execution_count": 64,
   "metadata": {},
   "outputs": [
    {
     "data": {
      "text/plain": [
       "0.0829825127743"
      ]
     },
     "execution_count": 64,
     "metadata": {},
     "output_type": "execute_result"
    }
   ],
   "source": [
    "twentyoneth_hour = df[(df['Date'] == today_date[-2]) & (df['time'] >= '20:00:00') & (df['time'] <= '20:59:59')]\n",
    "twentyoneth_hour_energy = twentyoneth_hour['Power (KW)'].sum()\n",
    "twentyoneth_hour_energy "
   ]
  },
  {
   "cell_type": "code",
   "execution_count": 65,
   "metadata": {},
   "outputs": [
    {
     "data": {
      "text/plain": [
       "0.0"
      ]
     },
     "execution_count": 65,
     "metadata": {},
     "output_type": "execute_result"
    }
   ],
   "source": [
    "twentysecond_hour = df[(df['Date'] == today_date[-2]) & (df['time'] >= '21:00:00') & (df['time'] <= '21:59:59')]\n",
    "twentysecond_hour_energy = twentysecond_hour['Power (KW)'].sum()\n",
    "twentysecond_hour_energy "
   ]
  },
  {
   "cell_type": "code",
   "execution_count": 66,
   "metadata": {},
   "outputs": [
    {
     "data": {
      "text/plain": [
       "0.0"
      ]
     },
     "execution_count": 66,
     "metadata": {},
     "output_type": "execute_result"
    }
   ],
   "source": [
    "twentythird_hour = df[(df['Date'] == today_date[-2]) & (df['time'] >= '22:00:00') & (df['time'] <= '22:59:59')]\n",
    "twentythird_hour_energy = twentythird_hour['Power (KW)'].sum()\n",
    "twentythird_hour_energy "
   ]
  },
  {
   "cell_type": "code",
   "execution_count": 87,
   "metadata": {},
   "outputs": [
    {
     "data": {
      "text/plain": [
       "0.0"
      ]
     },
     "execution_count": 87,
     "metadata": {},
     "output_type": "execute_result"
    }
   ],
   "source": [
    "twentyfourth_hour = df[(df['Date'] == today_date[-2]) & (df['time'] >= '23:00:00') & (df['time'] <= '23:59:59')]\n",
    "twentyfourth_hour_energy = twentyfourth_hour['Power (KW)'].sum()\n",
    "twentyfourth_hour_energy "
   ]
  },
  {
   "cell_type": "code",
   "execution_count": 92,
   "metadata": {},
   "outputs": [],
   "source": [
    "hourly_data = [first_hour_energy, second_hour_energy, third_hour_energy, fourth_hour_energy, fifth_hour_energy, \n",
    "               sixth_hour_energy, seventh_hour_energy, eighth_hour_energy, nineth_hour_energy, tenth_hour_energy, \n",
    "               eleventh_hour_energy, twelth_hour_energy, thirteenth_hour_energy, fourteenth_hour_energy, \n",
    "               fifteenth_hour_energy, sixteenth_hour_energy, seventeenth_hour_energy, eighteenth_hour_energy, \n",
    "               nineteenth_hour_energy, twenteeth_hour_energy, twentyoneth_hour_energy, twentysecond_hour_energy, \n",
    "               twentythird_hour_energy, twentyfourth_hour_energy]"
   ]
  },
  {
   "cell_type": "code",
   "execution_count": 93,
   "metadata": {},
   "outputs": [],
   "source": [
    "hours = [0, 1, 2, 3, 4, 5, 6, 7, 8, 9, 10, 11, 12, 13, 14, 15, 16, 17, 18, 19, 20, 21, 22, 23]"
   ]
  },
  {
   "cell_type": "code",
   "execution_count": 94,
   "metadata": {},
   "outputs": [],
   "source": [
    "hourly_data_and_hours = {'Hours': hours, 'Hourly Data': hourly_data}"
   ]
  },
  {
   "cell_type": "code",
   "execution_count": 95,
   "metadata": {},
   "outputs": [
    {
     "name": "stdout",
     "output_type": "stream",
     "text": [
      "    Hours  Hourly Data\n",
      "0       0     0.000000\n",
      "1       1     0.000000\n",
      "2       2     0.000000\n",
      "3       3     0.000000\n",
      "4       4     0.000000\n",
      "5       5     0.000000\n",
      "6       6     0.033273\n",
      "7       7     0.189642\n",
      "8       8     0.514775\n",
      "9       9     0.514775\n",
      "10     10     0.466551\n",
      "11     11     0.631604\n",
      "12     12     1.124003\n",
      "13     13     1.124003\n",
      "14     14     1.167236\n",
      "15     15     0.582719\n",
      "16     16     0.582719\n",
      "17     17     0.128921\n",
      "18     18     0.418171\n",
      "19     19     0.418171\n",
      "20     20     0.082983\n",
      "21     21     0.000000\n",
      "22     22     0.000000\n",
      "23     23     0.000000\n"
     ]
    }
   ],
   "source": [
    "hourly_data_and_hours_df = pd.DataFrame(hourly_data_and_hours)\n",
    "print(hourly_data_and_hours_df)"
   ]
  },
  {
   "cell_type": "code",
   "execution_count": 99,
   "metadata": {},
   "outputs": [],
   "source": [
    "# import requests\n",
    "# complete_api_link = 'http://dataservice.accuweather.com/forecasts/v1/hourly/12hour/331595?apikey=vnwz1buClrE9YhGJFG3mhNVq23tnIACH&details=true&metric=true'\n",
    "# api_link = requests.get(complete_api_link)\n",
    "# api_data = api_link.json()\n",
    "# print(api_data)"
   ]
  },
  {
   "cell_type": "code",
   "execution_count": null,
   "metadata": {},
   "outputs": [],
   "source": []
  }
 ],
 "metadata": {
  "kernelspec": {
   "display_name": "Python 3",
   "language": "python",
   "name": "python3"
  },
  "language_info": {
   "codemirror_mode": {
    "name": "ipython",
    "version": 3
   },
   "file_extension": ".py",
   "mimetype": "text/x-python",
   "name": "python",
   "nbconvert_exporter": "python",
   "pygments_lexer": "ipython3",
   "version": "3.8.3"
  }
 },
 "nbformat": 4,
 "nbformat_minor": 4
}
