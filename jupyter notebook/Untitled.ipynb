{
 "cells": [
  {
   "cell_type": "code",
   "execution_count": 1,
   "metadata": {},
   "outputs": [],
   "source": [
    "import pandas as pd\n",
    "\n",
    "header_list = ['Date Time', 'Voltage', 'Current']\n",
    "df = pd.read_csv('sensors_data.csv', names = header_list)\n",
    "df['Date Time'] = pd.to_datetime(df['Date Time'])\n",
    "df['Date'] = df['Date Time'].dt.date\n",
    "df['Date'] = pd.to_datetime(df['Date'])\n",
    "df['Month'] = pd.to_datetime(df['Date']).dt.month"
   ]
  },
  {
   "cell_type": "code",
   "execution_count": 2,
   "metadata": {},
   "outputs": [],
   "source": [
    "today_date = df['Date'].unique()"
   ]
  },
  {
   "cell_type": "code",
   "execution_count": 3,
   "metadata": {},
   "outputs": [
    {
     "name": "stdout",
     "output_type": "stream",
     "text": [
      "2.753795400696872\n"
     ]
    }
   ],
   "source": [
    "today_voltage = df[df['Date'] == today_date[-1]]['Voltage'].mean()\n",
    "print(today_voltage)"
   ]
  },
  {
   "cell_type": "code",
   "execution_count": 4,
   "metadata": {},
   "outputs": [],
   "source": [
    "unique_month = df['Month'].unique()"
   ]
  },
  {
   "cell_type": "code",
   "execution_count": 5,
   "metadata": {},
   "outputs": [
    {
     "name": "stdout",
     "output_type": "stream",
     "text": [
      "2.753795400696872\n"
     ]
    }
   ],
   "source": [
    "this_month = df[df['Month'] == unique_month[-1]]['Voltage'].mean()\n",
    "print(this_month)"
   ]
  },
  {
   "cell_type": "code",
   "execution_count": 22,
   "metadata": {},
   "outputs": [
    {
     "name": "stdout",
     "output_type": "stream",
     "text": [
      "01:00\n"
     ]
    }
   ],
   "source": [
    "header_list = ['Time', 'Weather Status', 'Temperature', 'Real Feel Temperature', 'Precipitation']\n",
    "df = pd.read_csv('first_hour_forecast_data.csv', names = header_list)\n",
    "df['Time'] = pd.to_datetime(df['Time'])\n",
    "df['time'] = pd.to_datetime(df['Time']).dt.time\n",
    "print(df['time'].iloc[-1].strftime('%H:%M'))"
   ]
  },
  {
   "cell_type": "code",
   "execution_count": null,
   "metadata": {},
   "outputs": [],
   "source": []
  }
 ],
 "metadata": {
  "kernelspec": {
   "display_name": "Python 3",
   "language": "python",
   "name": "python3"
  },
  "language_info": {
   "codemirror_mode": {
    "name": "ipython",
    "version": 3
   },
   "file_extension": ".py",
   "mimetype": "text/x-python",
   "name": "python",
   "nbconvert_exporter": "python",
   "pygments_lexer": "ipython3",
   "version": "3.8.3"
  }
 },
 "nbformat": 4,
 "nbformat_minor": 4
}
