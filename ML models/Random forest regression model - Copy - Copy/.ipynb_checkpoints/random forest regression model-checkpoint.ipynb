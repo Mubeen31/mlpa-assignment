{
 "cells": [
  {
   "cell_type": "code",
   "execution_count": 1,
   "metadata": {},
   "outputs": [],
   "source": [
    "import pandas as pd\n",
    "import numpy as np\n",
    "import plotly.graph_objects as go\n",
    "from numpy import math\n",
    "from datetime import datetime, date, time\n",
    "from datetime import timedelta\n",
    "\n",
    "from sklearn.model_selection import train_test_split\n",
    "from sklearn import linear_model\n",
    "from sklearn.ensemble import RandomForestRegressor\n",
    "from sklearn import metrics\n",
    "from sklearn.preprocessing import StandardScaler\n",
    "from sklearn.preprocessing import MinMaxScaler"
   ]
  },
  {
   "cell_type": "code",
   "execution_count": 2,
   "metadata": {},
   "outputs": [],
   "source": [
    "header_list = ['Date Time', 'Voltage', 'Current']\n",
    "df = pd.read_csv('sensors_data.csv', names = header_list)\n",
    "df['Power (W)'] = df['Voltage'] * df['Current']\n",
    "df['Power (KW)'] = df['Power (W)'] / 1000\n",
    "df['Date Time'] = pd.to_datetime(df['Date Time'])\n",
    "df['Date'] = df['Date Time'].dt.date\n",
    "df['Date'] = pd.to_datetime(df['Date'])\n",
    "df['Time'] = pd.to_datetime(df['Date Time']).dt.time\n",
    "df['Hour'] = pd.to_datetime(df['Date Time']).dt.hour\n",
    "df['Time'] = df['Time'].astype(str)\n",
    "# df['Hour'] = df['Hour'].astype(str)"
   ]
  },
  {
   "cell_type": "code",
   "execution_count": 3,
   "metadata": {},
   "outputs": [
    {
     "data": {
      "text/html": [
       "<div>\n",
       "<style scoped>\n",
       "    .dataframe tbody tr th:only-of-type {\n",
       "        vertical-align: middle;\n",
       "    }\n",
       "\n",
       "    .dataframe tbody tr th {\n",
       "        vertical-align: top;\n",
       "    }\n",
       "\n",
       "    .dataframe thead th {\n",
       "        text-align: right;\n",
       "    }\n",
       "</style>\n",
       "<table border=\"1\" class=\"dataframe\">\n",
       "  <thead>\n",
       "    <tr style=\"text-align: right;\">\n",
       "      <th></th>\n",
       "      <th>Date Time</th>\n",
       "      <th>Voltage</th>\n",
       "      <th>Current</th>\n",
       "      <th>Power (W)</th>\n",
       "      <th>Power (KW)</th>\n",
       "      <th>Date</th>\n",
       "      <th>Time</th>\n",
       "      <th>Hour</th>\n",
       "    </tr>\n",
       "  </thead>\n",
       "  <tbody>\n",
       "    <tr>\n",
       "      <th>0</th>\n",
       "      <td>2022-06-24 23:31:26</td>\n",
       "      <td>0.26855</td>\n",
       "      <td>0.0</td>\n",
       "      <td>0.0</td>\n",
       "      <td>0.0</td>\n",
       "      <td>2022-06-24</td>\n",
       "      <td>23:31:26</td>\n",
       "      <td>23</td>\n",
       "    </tr>\n",
       "    <tr>\n",
       "      <th>1</th>\n",
       "      <td>2022-06-25 00:31:26</td>\n",
       "      <td>0.26855</td>\n",
       "      <td>0.0</td>\n",
       "      <td>0.0</td>\n",
       "      <td>0.0</td>\n",
       "      <td>2022-06-25</td>\n",
       "      <td>00:31:26</td>\n",
       "      <td>0</td>\n",
       "    </tr>\n",
       "    <tr>\n",
       "      <th>2</th>\n",
       "      <td>2022-06-25 01:31:26</td>\n",
       "      <td>0.26855</td>\n",
       "      <td>0.0</td>\n",
       "      <td>0.0</td>\n",
       "      <td>0.0</td>\n",
       "      <td>2022-06-25</td>\n",
       "      <td>01:31:26</td>\n",
       "      <td>1</td>\n",
       "    </tr>\n",
       "    <tr>\n",
       "      <th>3</th>\n",
       "      <td>2022-06-25 01:32:26</td>\n",
       "      <td>0.26855</td>\n",
       "      <td>0.0</td>\n",
       "      <td>0.0</td>\n",
       "      <td>0.0</td>\n",
       "      <td>2022-06-25</td>\n",
       "      <td>01:32:26</td>\n",
       "      <td>1</td>\n",
       "    </tr>\n",
       "    <tr>\n",
       "      <th>4</th>\n",
       "      <td>2022-06-25 01:33:26</td>\n",
       "      <td>0.31738</td>\n",
       "      <td>0.0</td>\n",
       "      <td>0.0</td>\n",
       "      <td>0.0</td>\n",
       "      <td>2022-06-25</td>\n",
       "      <td>01:33:26</td>\n",
       "      <td>1</td>\n",
       "    </tr>\n",
       "  </tbody>\n",
       "</table>\n",
       "</div>"
      ],
      "text/plain": [
       "            Date Time  Voltage  Current  Power (W)  Power (KW)       Date  \\\n",
       "0 2022-06-24 23:31:26  0.26855      0.0        0.0         0.0 2022-06-24   \n",
       "1 2022-06-25 00:31:26  0.26855      0.0        0.0         0.0 2022-06-25   \n",
       "2 2022-06-25 01:31:26  0.26855      0.0        0.0         0.0 2022-06-25   \n",
       "3 2022-06-25 01:32:26  0.26855      0.0        0.0         0.0 2022-06-25   \n",
       "4 2022-06-25 01:33:26  0.31738      0.0        0.0         0.0 2022-06-25   \n",
       "\n",
       "       Time  Hour  \n",
       "0  23:31:26    23  \n",
       "1  00:31:26     0  \n",
       "2  01:31:26     1  \n",
       "3  01:32:26     1  \n",
       "4  01:33:26     1  "
      ]
     },
     "execution_count": 3,
     "metadata": {},
     "output_type": "execute_result"
    }
   ],
   "source": [
    "df.head(5)"
   ]
  },
  {
   "cell_type": "code",
   "execution_count": 4,
   "metadata": {},
   "outputs": [
    {
     "data": {
      "text/html": [
       "<div>\n",
       "<style scoped>\n",
       "    .dataframe tbody tr th:only-of-type {\n",
       "        vertical-align: middle;\n",
       "    }\n",
       "\n",
       "    .dataframe tbody tr th {\n",
       "        vertical-align: top;\n",
       "    }\n",
       "\n",
       "    .dataframe thead th {\n",
       "        text-align: right;\n",
       "    }\n",
       "</style>\n",
       "<table border=\"1\" class=\"dataframe\">\n",
       "  <thead>\n",
       "    <tr style=\"text-align: right;\">\n",
       "      <th></th>\n",
       "      <th>Date Time</th>\n",
       "      <th>Date</th>\n",
       "      <th>Time</th>\n",
       "      <th>Hour</th>\n",
       "      <th>Voltage</th>\n",
       "      <th>Current</th>\n",
       "      <th>Power (W)</th>\n",
       "      <th>Power (KW)</th>\n",
       "    </tr>\n",
       "  </thead>\n",
       "  <tbody>\n",
       "    <tr>\n",
       "      <th>8972</th>\n",
       "      <td>2022-07-01 19:43:59</td>\n",
       "      <td>2022-07-01</td>\n",
       "      <td>19:43:59</td>\n",
       "      <td>19</td>\n",
       "      <td>13.81836</td>\n",
       "      <td>0.06251</td>\n",
       "      <td>0.863786</td>\n",
       "      <td>0.000864</td>\n",
       "    </tr>\n",
       "    <tr>\n",
       "      <th>8973</th>\n",
       "      <td>2022-07-01 19:44:59</td>\n",
       "      <td>2022-07-01</td>\n",
       "      <td>19:44:59</td>\n",
       "      <td>19</td>\n",
       "      <td>13.81836</td>\n",
       "      <td>0.06591</td>\n",
       "      <td>0.910768</td>\n",
       "      <td>0.000911</td>\n",
       "    </tr>\n",
       "    <tr>\n",
       "      <th>8974</th>\n",
       "      <td>2022-07-01 19:45:59</td>\n",
       "      <td>2022-07-01</td>\n",
       "      <td>19:45:59</td>\n",
       "      <td>19</td>\n",
       "      <td>13.81836</td>\n",
       "      <td>0.06458</td>\n",
       "      <td>0.892390</td>\n",
       "      <td>0.000892</td>\n",
       "    </tr>\n",
       "    <tr>\n",
       "      <th>8975</th>\n",
       "      <td>2022-07-01 19:46:59</td>\n",
       "      <td>2022-07-01</td>\n",
       "      <td>19:46:59</td>\n",
       "      <td>19</td>\n",
       "      <td>13.79395</td>\n",
       "      <td>0.05888</td>\n",
       "      <td>0.812188</td>\n",
       "      <td>0.000812</td>\n",
       "    </tr>\n",
       "    <tr>\n",
       "      <th>8976</th>\n",
       "      <td>2022-07-01 19:47:59</td>\n",
       "      <td>2022-07-01</td>\n",
       "      <td>19:47:59</td>\n",
       "      <td>19</td>\n",
       "      <td>13.79395</td>\n",
       "      <td>0.05096</td>\n",
       "      <td>0.702940</td>\n",
       "      <td>0.000703</td>\n",
       "    </tr>\n",
       "  </tbody>\n",
       "</table>\n",
       "</div>"
      ],
      "text/plain": [
       "               Date Time       Date      Time  Hour   Voltage  Current  \\\n",
       "8972 2022-07-01 19:43:59 2022-07-01  19:43:59    19  13.81836  0.06251   \n",
       "8973 2022-07-01 19:44:59 2022-07-01  19:44:59    19  13.81836  0.06591   \n",
       "8974 2022-07-01 19:45:59 2022-07-01  19:45:59    19  13.81836  0.06458   \n",
       "8975 2022-07-01 19:46:59 2022-07-01  19:46:59    19  13.79395  0.05888   \n",
       "8976 2022-07-01 19:47:59 2022-07-01  19:47:59    19  13.79395  0.05096   \n",
       "\n",
       "      Power (W)  Power (KW)  \n",
       "8972   0.863786    0.000864  \n",
       "8973   0.910768    0.000911  \n",
       "8974   0.892390    0.000892  \n",
       "8975   0.812188    0.000812  \n",
       "8976   0.702940    0.000703  "
      ]
     },
     "execution_count": 4,
     "metadata": {},
     "output_type": "execute_result"
    }
   ],
   "source": [
    "rearrange_columns = ['Date Time', 'Date', 'Time', 'Hour', 'Voltage', 'Current', 'Power (W)', 'Power (KW)']\n",
    "df = df[rearrange_columns]\n",
    "df.tail(5)"
   ]
  },
  {
   "cell_type": "code",
   "execution_count": 5,
   "metadata": {},
   "outputs": [
    {
     "data": {
      "text/plain": [
       "array(['2022-06-24T00:00:00.000000000', '2022-06-25T00:00:00.000000000',\n",
       "       '2022-06-26T00:00:00.000000000', '2022-06-27T00:00:00.000000000',\n",
       "       '2022-06-28T00:00:00.000000000', '2022-06-29T00:00:00.000000000',\n",
       "       '2022-06-30T00:00:00.000000000', '2022-07-01T00:00:00.000000000'],\n",
       "      dtype='datetime64[ns]')"
      ]
     },
     "execution_count": 5,
     "metadata": {},
     "output_type": "execute_result"
    }
   ],
   "source": [
    "unique_date = df['Date'].unique()\n",
    "unique_date"
   ]
  },
  {
   "cell_type": "code",
   "execution_count": 6,
   "metadata": {},
   "outputs": [
    {
     "data": {
      "text/plain": [
       "20"
      ]
     },
     "execution_count": 6,
     "metadata": {},
     "output_type": "execute_result"
    }
   ],
   "source": [
    "filter_today_values = df[df['Date'] == unique_date[-1]][['Date', 'Hour', 'Power (KW)']]\n",
    "today_hourly_values = filter_today_values.groupby(['Date', 'Hour'])['Power (KW)'].sum().reset_index()\n",
    "length_today_hourly_values = len(today_hourly_values)\n",
    "length_today_hourly_values\n",
    "# today_hourly_values"
   ]
  },
  {
   "cell_type": "code",
   "execution_count": 7,
   "metadata": {},
   "outputs": [
    {
     "data": {
      "text/html": [
       "<div>\n",
       "<style scoped>\n",
       "    .dataframe tbody tr th:only-of-type {\n",
       "        vertical-align: middle;\n",
       "    }\n",
       "\n",
       "    .dataframe tbody tr th {\n",
       "        vertical-align: top;\n",
       "    }\n",
       "\n",
       "    .dataframe thead th {\n",
       "        text-align: right;\n",
       "    }\n",
       "</style>\n",
       "<table border=\"1\" class=\"dataframe\">\n",
       "  <thead>\n",
       "    <tr style=\"text-align: right;\">\n",
       "      <th></th>\n",
       "      <th>Date</th>\n",
       "      <th>Hour</th>\n",
       "      <th>Power (KW)</th>\n",
       "    </tr>\n",
       "  </thead>\n",
       "  <tbody>\n",
       "    <tr>\n",
       "      <th>1</th>\n",
       "      <td>2022-06-25</td>\n",
       "      <td>0</td>\n",
       "      <td>0.0</td>\n",
       "    </tr>\n",
       "    <tr>\n",
       "      <th>2</th>\n",
       "      <td>2022-06-25</td>\n",
       "      <td>1</td>\n",
       "      <td>0.0</td>\n",
       "    </tr>\n",
       "    <tr>\n",
       "      <th>3</th>\n",
       "      <td>2022-06-25</td>\n",
       "      <td>1</td>\n",
       "      <td>0.0</td>\n",
       "    </tr>\n",
       "    <tr>\n",
       "      <th>4</th>\n",
       "      <td>2022-06-25</td>\n",
       "      <td>1</td>\n",
       "      <td>0.0</td>\n",
       "    </tr>\n",
       "    <tr>\n",
       "      <th>5</th>\n",
       "      <td>2022-06-25</td>\n",
       "      <td>1</td>\n",
       "      <td>0.0</td>\n",
       "    </tr>\n",
       "    <tr>\n",
       "      <th>...</th>\n",
       "      <td>...</td>\n",
       "      <td>...</td>\n",
       "      <td>...</td>\n",
       "    </tr>\n",
       "    <tr>\n",
       "      <th>7934</th>\n",
       "      <td>2022-06-30</td>\n",
       "      <td>23</td>\n",
       "      <td>0.0</td>\n",
       "    </tr>\n",
       "    <tr>\n",
       "      <th>7935</th>\n",
       "      <td>2022-06-30</td>\n",
       "      <td>23</td>\n",
       "      <td>0.0</td>\n",
       "    </tr>\n",
       "    <tr>\n",
       "      <th>7936</th>\n",
       "      <td>2022-06-30</td>\n",
       "      <td>23</td>\n",
       "      <td>0.0</td>\n",
       "    </tr>\n",
       "    <tr>\n",
       "      <th>7937</th>\n",
       "      <td>2022-06-30</td>\n",
       "      <td>23</td>\n",
       "      <td>0.0</td>\n",
       "    </tr>\n",
       "    <tr>\n",
       "      <th>7938</th>\n",
       "      <td>2022-06-30</td>\n",
       "      <td>23</td>\n",
       "      <td>0.0</td>\n",
       "    </tr>\n",
       "  </tbody>\n",
       "</table>\n",
       "<p>7938 rows × 3 columns</p>\n",
       "</div>"
      ],
      "text/plain": [
       "           Date  Hour  Power (KW)\n",
       "1    2022-06-25     0         0.0\n",
       "2    2022-06-25     1         0.0\n",
       "3    2022-06-25     1         0.0\n",
       "4    2022-06-25     1         0.0\n",
       "5    2022-06-25     1         0.0\n",
       "...         ...   ...         ...\n",
       "7934 2022-06-30    23         0.0\n",
       "7935 2022-06-30    23         0.0\n",
       "7936 2022-06-30    23         0.0\n",
       "7937 2022-06-30    23         0.0\n",
       "7938 2022-06-30    23         0.0\n",
       "\n",
       "[7938 rows x 3 columns]"
      ]
     },
     "execution_count": 7,
     "metadata": {},
     "output_type": "execute_result"
    }
   ],
   "source": [
    "filter_daily_values = df[(df['Date'] > '2022-06-24') & (df['Date'] <= unique_date[-2])][['Date', 'Hour', 'Power (KW)']]\n",
    "filter_daily_values"
   ]
  },
  {
   "cell_type": "code",
   "execution_count": 8,
   "metadata": {},
   "outputs": [
    {
     "data": {
      "text/html": [
       "<div>\n",
       "<style scoped>\n",
       "    .dataframe tbody tr th:only-of-type {\n",
       "        vertical-align: middle;\n",
       "    }\n",
       "\n",
       "    .dataframe tbody tr th {\n",
       "        vertical-align: top;\n",
       "    }\n",
       "\n",
       "    .dataframe thead th {\n",
       "        text-align: right;\n",
       "    }\n",
       "</style>\n",
       "<table border=\"1\" class=\"dataframe\">\n",
       "  <thead>\n",
       "    <tr style=\"text-align: right;\">\n",
       "      <th></th>\n",
       "      <th>Date</th>\n",
       "      <th>Hour</th>\n",
       "      <th>Power (KW)</th>\n",
       "    </tr>\n",
       "  </thead>\n",
       "  <tbody>\n",
       "    <tr>\n",
       "      <th>0</th>\n",
       "      <td>2022-06-25</td>\n",
       "      <td>0</td>\n",
       "      <td>0.0</td>\n",
       "    </tr>\n",
       "    <tr>\n",
       "      <th>1</th>\n",
       "      <td>2022-06-25</td>\n",
       "      <td>1</td>\n",
       "      <td>0.0</td>\n",
       "    </tr>\n",
       "    <tr>\n",
       "      <th>2</th>\n",
       "      <td>2022-06-25</td>\n",
       "      <td>2</td>\n",
       "      <td>0.0</td>\n",
       "    </tr>\n",
       "    <tr>\n",
       "      <th>3</th>\n",
       "      <td>2022-06-25</td>\n",
       "      <td>3</td>\n",
       "      <td>0.0</td>\n",
       "    </tr>\n",
       "    <tr>\n",
       "      <th>4</th>\n",
       "      <td>2022-06-25</td>\n",
       "      <td>4</td>\n",
       "      <td>0.0</td>\n",
       "    </tr>\n",
       "    <tr>\n",
       "      <th>...</th>\n",
       "      <td>...</td>\n",
       "      <td>...</td>\n",
       "      <td>...</td>\n",
       "    </tr>\n",
       "    <tr>\n",
       "      <th>139</th>\n",
       "      <td>2022-06-30</td>\n",
       "      <td>19</td>\n",
       "      <td>0.0</td>\n",
       "    </tr>\n",
       "    <tr>\n",
       "      <th>140</th>\n",
       "      <td>2022-06-30</td>\n",
       "      <td>20</td>\n",
       "      <td>0.0</td>\n",
       "    </tr>\n",
       "    <tr>\n",
       "      <th>141</th>\n",
       "      <td>2022-06-30</td>\n",
       "      <td>21</td>\n",
       "      <td>0.0</td>\n",
       "    </tr>\n",
       "    <tr>\n",
       "      <th>142</th>\n",
       "      <td>2022-06-30</td>\n",
       "      <td>22</td>\n",
       "      <td>0.0</td>\n",
       "    </tr>\n",
       "    <tr>\n",
       "      <th>143</th>\n",
       "      <td>2022-06-30</td>\n",
       "      <td>23</td>\n",
       "      <td>0.0</td>\n",
       "    </tr>\n",
       "  </tbody>\n",
       "</table>\n",
       "<p>144 rows × 3 columns</p>\n",
       "</div>"
      ],
      "text/plain": [
       "          Date  Hour  Power (KW)\n",
       "0   2022-06-25     0         0.0\n",
       "1   2022-06-25     1         0.0\n",
       "2   2022-06-25     2         0.0\n",
       "3   2022-06-25     3         0.0\n",
       "4   2022-06-25     4         0.0\n",
       "..         ...   ...         ...\n",
       "139 2022-06-30    19         0.0\n",
       "140 2022-06-30    20         0.0\n",
       "141 2022-06-30    21         0.0\n",
       "142 2022-06-30    22         0.0\n",
       "143 2022-06-30    23         0.0\n",
       "\n",
       "[144 rows x 3 columns]"
      ]
     },
     "execution_count": 8,
     "metadata": {},
     "output_type": "execute_result"
    }
   ],
   "source": [
    "daily_hourly_values = filter_daily_values.groupby(['Date', 'Hour'])['Power (KW)'].sum().reset_index()\n",
    "daily_hourly_values"
   ]
  },
  {
   "cell_type": "code",
   "execution_count": 9,
   "metadata": {},
   "outputs": [],
   "source": [
    "# daily_values = daily_values[daily_values['Date'] > '2022-06-11']"
   ]
  },
  {
   "cell_type": "code",
   "execution_count": 10,
   "metadata": {},
   "outputs": [],
   "source": [
    "data_selection = {'Mostly sunny': 3,\n",
    "                  'Partly sunny': 2,\n",
    "                  'Partly cloudy': 2,\n",
    "                  'Intermittent clouds': 2,\n",
    "                  'Partly sunny w/ showers': 1.5,\n",
    "                  'Partly cloudy w/ showers': 1.5,\n",
    "                  'Mostly clear': 1,\n",
    "                  'Clear': 1,\n",
    "                  'Mostly cloudy w/ t-storms': 0.5,\n",
    "                  'Mostly cloudy': 0.5,\n",
    "                  'Showers': 0.5,\n",
    "                  'Cloudy': 0.5,\n",
    "                  'Thunderstorms': 0.5,\n",
    "                  'Mostly cloudy w/ showers': 0.5,\n",
    "                  'Rain': 0}"
   ]
  },
  {
   "cell_type": "code",
   "execution_count": 11,
   "metadata": {},
   "outputs": [],
   "source": [
    "header_list = ['Date', 'Time', 'SolarIrradiance (W/m2)', 'weather status', 'Temp (°C)', 'RealFeelTemp (°C)', 'DewPoint (°C)', 'Wind (km/h)',\n",
    "              'Direction', 'Hum (%)', 'Visibility (km)', 'UVIndex', 'UVIndexText', 'PreProbability (%)', 'RainProbability (%)',\n",
    "              'CloudCover (%)']\n",
    "weather_data = pd.read_csv('hourly_weather_forecasted_data.csv', names = header_list, encoding= 'unicode_escape')\n",
    "weather_data['modified_weather_status'] = weather_data['weather status'].map(data_selection)\n",
    "\n",
    "# weather_data.loc[(weather_data['CloudCover (%)'] >= 91) & (weather_data['CloudCover (%)'] <= 100), 'CloudCover (%)'] = 1\n",
    "# weather_data.loc[(weather_data['CloudCover (%)'] >= 81) & (weather_data['CloudCover (%)'] <= 90), 'CloudCover (%)'] = 2\n",
    "# weather_data.loc[(weather_data['CloudCover (%)'] >= 71) & (weather_data['CloudCover (%)'] <= 80), 'CloudCover (%)'] = 3\n",
    "# weather_data.loc[(weather_data['CloudCover (%)'] >= 61) & (weather_data['CloudCover (%)'] <= 70), 'CloudCover (%)'] = 4\n",
    "# weather_data.loc[(weather_data['CloudCover (%)'] >= 51) & (weather_data['CloudCover (%)'] <= 60), 'CloudCover (%)'] = 5\n",
    "# weather_data.loc[(weather_data['CloudCover (%)'] >= 41) & (weather_data['CloudCover (%)'] <= 50), 'CloudCover (%)'] = 6\n",
    "# weather_data.loc[(weather_data['CloudCover (%)'] >= 31) & (weather_data['CloudCover (%)'] <= 40), 'CloudCover (%)'] = 7\n",
    "# weather_data.loc[(weather_data['CloudCover (%)'] >= 21) & (weather_data['CloudCover (%)'] <= 30), 'CloudCover (%)'] = 8\n",
    "# weather_data.loc[(weather_data['CloudCover (%)'] >= 11) & (weather_data['CloudCover (%)'] <= 20), 'CloudCover (%)'] = 9\n",
    "# weather_data.loc[(weather_data['CloudCover (%)'] >= 0) & (weather_data['CloudCover (%)'] <= 10), 'CloudCover (%)'] = 10\n",
    "\n",
    "# weather_data['code'] = pd.factorize(weather_data['weather status'])[0]\n",
    "weather_data.loc[weather_data['SolarIrradiance (W/m2)'] == 0, ['modified_weather_status', 'Temp (°C)', 'Hum (%)', 'CloudCover (%)']] = 0\n",
    "weather_data.drop(['Date', 'Time', 'SolarIrradiance (W/m2)', 'weather status', 'RealFeelTemp (°C)', 'DewPoint (°C)', 'Wind (km/h)', 'Direction', 'Visibility (km)', 'UVIndex', \n",
    "                   'UVIndexText', 'PreProbability (%)', 'RainProbability (%)', 'CloudCover (%)'], axis = 1, inplace = True)\n",
    "# weather_data['weather status'].unique()\n",
    "# weather_data.tail(14)\n",
    "# ce = weather_data[weather_data['code'] == 0 ][['code', 'weather status']]\n",
    "# weather_data['CloudCover (%)'].unique()"
   ]
  },
  {
   "cell_type": "code",
   "execution_count": 12,
   "metadata": {},
   "outputs": [
    {
     "data": {
      "text/html": [
       "<div>\n",
       "<style scoped>\n",
       "    .dataframe tbody tr th:only-of-type {\n",
       "        vertical-align: middle;\n",
       "    }\n",
       "\n",
       "    .dataframe tbody tr th {\n",
       "        vertical-align: top;\n",
       "    }\n",
       "\n",
       "    .dataframe thead th {\n",
       "        text-align: right;\n",
       "    }\n",
       "</style>\n",
       "<table border=\"1\" class=\"dataframe\">\n",
       "  <thead>\n",
       "    <tr style=\"text-align: right;\">\n",
       "      <th></th>\n",
       "      <th>Power (KW)</th>\n",
       "      <th>Temp (°C)</th>\n",
       "      <th>Hum (%)</th>\n",
       "      <th>modified_weather_status</th>\n",
       "    </tr>\n",
       "  </thead>\n",
       "  <tbody>\n",
       "    <tr>\n",
       "      <th>143</th>\n",
       "      <td>0.0</td>\n",
       "      <td>0.0</td>\n",
       "      <td>0</td>\n",
       "      <td>0.0</td>\n",
       "    </tr>\n",
       "    <tr>\n",
       "      <th>144</th>\n",
       "      <td>NaN</td>\n",
       "      <td>0.0</td>\n",
       "      <td>0</td>\n",
       "      <td>0.0</td>\n",
       "    </tr>\n",
       "    <tr>\n",
       "      <th>145</th>\n",
       "      <td>NaN</td>\n",
       "      <td>0.0</td>\n",
       "      <td>0</td>\n",
       "      <td>0.0</td>\n",
       "    </tr>\n",
       "    <tr>\n",
       "      <th>146</th>\n",
       "      <td>NaN</td>\n",
       "      <td>0.0</td>\n",
       "      <td>0</td>\n",
       "      <td>0.0</td>\n",
       "    </tr>\n",
       "    <tr>\n",
       "      <th>147</th>\n",
       "      <td>NaN</td>\n",
       "      <td>0.0</td>\n",
       "      <td>0</td>\n",
       "      <td>0.0</td>\n",
       "    </tr>\n",
       "    <tr>\n",
       "      <th>148</th>\n",
       "      <td>NaN</td>\n",
       "      <td>0.0</td>\n",
       "      <td>0</td>\n",
       "      <td>0.0</td>\n",
       "    </tr>\n",
       "    <tr>\n",
       "      <th>149</th>\n",
       "      <td>NaN</td>\n",
       "      <td>9.2</td>\n",
       "      <td>97</td>\n",
       "      <td>2.0</td>\n",
       "    </tr>\n",
       "    <tr>\n",
       "      <th>150</th>\n",
       "      <td>NaN</td>\n",
       "      <td>10.0</td>\n",
       "      <td>99</td>\n",
       "      <td>0.5</td>\n",
       "    </tr>\n",
       "    <tr>\n",
       "      <th>151</th>\n",
       "      <td>NaN</td>\n",
       "      <td>11.1</td>\n",
       "      <td>97</td>\n",
       "      <td>2.0</td>\n",
       "    </tr>\n",
       "    <tr>\n",
       "      <th>152</th>\n",
       "      <td>NaN</td>\n",
       "      <td>12.8</td>\n",
       "      <td>90</td>\n",
       "      <td>2.0</td>\n",
       "    </tr>\n",
       "    <tr>\n",
       "      <th>153</th>\n",
       "      <td>NaN</td>\n",
       "      <td>14.4</td>\n",
       "      <td>82</td>\n",
       "      <td>2.0</td>\n",
       "    </tr>\n",
       "    <tr>\n",
       "      <th>154</th>\n",
       "      <td>NaN</td>\n",
       "      <td>15.9</td>\n",
       "      <td>73</td>\n",
       "      <td>0.5</td>\n",
       "    </tr>\n",
       "    <tr>\n",
       "      <th>155</th>\n",
       "      <td>NaN</td>\n",
       "      <td>16.7</td>\n",
       "      <td>66</td>\n",
       "      <td>2.0</td>\n",
       "    </tr>\n",
       "    <tr>\n",
       "      <th>156</th>\n",
       "      <td>NaN</td>\n",
       "      <td>17.8</td>\n",
       "      <td>57</td>\n",
       "      <td>0.5</td>\n",
       "    </tr>\n",
       "    <tr>\n",
       "      <th>157</th>\n",
       "      <td>NaN</td>\n",
       "      <td>18.3</td>\n",
       "      <td>55</td>\n",
       "      <td>0.5</td>\n",
       "    </tr>\n",
       "    <tr>\n",
       "      <th>158</th>\n",
       "      <td>NaN</td>\n",
       "      <td>18.6</td>\n",
       "      <td>52</td>\n",
       "      <td>0.5</td>\n",
       "    </tr>\n",
       "    <tr>\n",
       "      <th>159</th>\n",
       "      <td>NaN</td>\n",
       "      <td>18.9</td>\n",
       "      <td>50</td>\n",
       "      <td>0.5</td>\n",
       "    </tr>\n",
       "    <tr>\n",
       "      <th>160</th>\n",
       "      <td>NaN</td>\n",
       "      <td>19.0</td>\n",
       "      <td>49</td>\n",
       "      <td>2.0</td>\n",
       "    </tr>\n",
       "    <tr>\n",
       "      <th>161</th>\n",
       "      <td>NaN</td>\n",
       "      <td>18.8</td>\n",
       "      <td>48</td>\n",
       "      <td>2.0</td>\n",
       "    </tr>\n",
       "    <tr>\n",
       "      <th>162</th>\n",
       "      <td>NaN</td>\n",
       "      <td>18.3</td>\n",
       "      <td>49</td>\n",
       "      <td>2.0</td>\n",
       "    </tr>\n",
       "    <tr>\n",
       "      <th>163</th>\n",
       "      <td>NaN</td>\n",
       "      <td>17.7</td>\n",
       "      <td>51</td>\n",
       "      <td>3.0</td>\n",
       "    </tr>\n",
       "    <tr>\n",
       "      <th>164</th>\n",
       "      <td>NaN</td>\n",
       "      <td>16.7</td>\n",
       "      <td>56</td>\n",
       "      <td>3.0</td>\n",
       "    </tr>\n",
       "    <tr>\n",
       "      <th>165</th>\n",
       "      <td>NaN</td>\n",
       "      <td>15.4</td>\n",
       "      <td>63</td>\n",
       "      <td>3.0</td>\n",
       "    </tr>\n",
       "    <tr>\n",
       "      <th>166</th>\n",
       "      <td>NaN</td>\n",
       "      <td>0.0</td>\n",
       "      <td>0</td>\n",
       "      <td>0.0</td>\n",
       "    </tr>\n",
       "    <tr>\n",
       "      <th>167</th>\n",
       "      <td>NaN</td>\n",
       "      <td>0.0</td>\n",
       "      <td>0</td>\n",
       "      <td>0.0</td>\n",
       "    </tr>\n",
       "  </tbody>\n",
       "</table>\n",
       "</div>"
      ],
      "text/plain": [
       "     Power (KW)  Temp (°C)  Hum (%)  modified_weather_status\n",
       "143         0.0        0.0        0                      0.0\n",
       "144         NaN        0.0        0                      0.0\n",
       "145         NaN        0.0        0                      0.0\n",
       "146         NaN        0.0        0                      0.0\n",
       "147         NaN        0.0        0                      0.0\n",
       "148         NaN        0.0        0                      0.0\n",
       "149         NaN        9.2       97                      2.0\n",
       "150         NaN       10.0       99                      0.5\n",
       "151         NaN       11.1       97                      2.0\n",
       "152         NaN       12.8       90                      2.0\n",
       "153         NaN       14.4       82                      2.0\n",
       "154         NaN       15.9       73                      0.5\n",
       "155         NaN       16.7       66                      2.0\n",
       "156         NaN       17.8       57                      0.5\n",
       "157         NaN       18.3       55                      0.5\n",
       "158         NaN       18.6       52                      0.5\n",
       "159         NaN       18.9       50                      0.5\n",
       "160         NaN       19.0       49                      2.0\n",
       "161         NaN       18.8       48                      2.0\n",
       "162         NaN       18.3       49                      2.0\n",
       "163         NaN       17.7       51                      3.0\n",
       "164         NaN       16.7       56                      3.0\n",
       "165         NaN       15.4       63                      3.0\n",
       "166         NaN        0.0        0                      0.0\n",
       "167         NaN        0.0        0                      0.0"
      ]
     },
     "execution_count": 12,
     "metadata": {},
     "output_type": "execute_result"
    }
   ],
   "source": [
    "df1 = pd.concat([daily_hourly_values, weather_data], axis = 1)\n",
    "df1.drop(['Date', 'Hour'], axis = 1, inplace = True)\n",
    "# df1.loc[df1['SolarIrradiance (W/m2)'] == 0, ['Temp (°C)', 'Hum (%)', 'CloudCover (%)']] = 0\n",
    "# df1.to_csv('solar_energy_predictions.csv')\n",
    "df1.tail(25)"
   ]
  },
  {
   "cell_type": "code",
   "execution_count": 13,
   "metadata": {},
   "outputs": [],
   "source": [
    "count_total_rows = len(df1) - 24"
   ]
  },
  {
   "cell_type": "code",
   "execution_count": 14,
   "metadata": {},
   "outputs": [],
   "source": [
    "independent_columns = df1[['Temp (°C)', 'Hum (%)', 'modified_weather_status']][0:count_total_rows]"
   ]
  },
  {
   "cell_type": "code",
   "execution_count": 15,
   "metadata": {
    "scrolled": true
   },
   "outputs": [],
   "source": [
    "dependent_column = df1['Power (KW)'][0:count_total_rows]"
   ]
  },
  {
   "cell_type": "code",
   "execution_count": 16,
   "metadata": {},
   "outputs": [],
   "source": [
    "# scaler = StandardScaler()\n",
    "# x_transform = scaler.fit_transform(independent_columns)\n",
    "# y_transform = scaler.fit_transform(dependent_column.values.reshape(-1, 1))\n",
    "\n",
    "# Normaliation\n",
    "# min_max_scaler = MinMaxScaler()\n",
    "# x_transform = min_max_scaler.fit_transform(independent_columns)\n",
    "# y_transform = min_max_scaler.fit_transform(dependent_column.values.reshape(-1, 1))"
   ]
  },
  {
   "cell_type": "code",
   "execution_count": 17,
   "metadata": {},
   "outputs": [
    {
     "data": {
      "text/plain": [
       "RandomForestRegressor(random_state=0)"
      ]
     },
     "execution_count": 17,
     "metadata": {},
     "output_type": "execute_result"
    }
   ],
   "source": [
    "rfr = RandomForestRegressor(n_estimators = 100, random_state = 0)\n",
    "rfr.fit(independent_columns, dependent_column)"
   ]
  },
  {
   "cell_type": "markdown",
   "metadata": {},
   "source": [
    "#### Is model well fit or not?"
   ]
  },
  {
   "cell_type": "code",
   "execution_count": 18,
   "metadata": {},
   "outputs": [
    {
     "data": {
      "text/plain": [
       "0.9105060779438101"
      ]
     },
     "execution_count": 18,
     "metadata": {},
     "output_type": "execute_result"
    }
   ],
   "source": [
    "r_sq = rfr.score(independent_columns, dependent_column)\n",
    "r_sq"
   ]
  },
  {
   "cell_type": "code",
   "execution_count": 19,
   "metadata": {},
   "outputs": [],
   "source": [
    "forcasted_data = df1[['Temp (°C)', 'Hum (%)', 'modified_weather_status']].tail(24)\n",
    "# forcast_transform = scaler.fit_transform(forcasted_data)\n",
    "# forcast_transform = min_max_scaler.fit_transform(forcasted_data)"
   ]
  },
  {
   "cell_type": "code",
   "execution_count": 20,
   "metadata": {},
   "outputs": [],
   "source": [
    "return_array = list(rfr.predict(forcasted_data))\n",
    "# return_array\n",
    "# min_max_scaler.inverse_transform(return_array)"
   ]
  },
  {
   "cell_type": "code",
   "execution_count": 21,
   "metadata": {},
   "outputs": [],
   "source": [
    "# predicted_data = pd.DataFrame(return_array, columns = ['Power (KW)'])\n",
    "# predicted_data"
   ]
  },
  {
   "cell_type": "code",
   "execution_count": 22,
   "metadata": {},
   "outputs": [],
   "source": [
    "now = datetime.now()\n",
    "date = now.strftime('%Y-%m-%d')\n",
    "current_date_24 = [date, date, date, date, date, date, date, date, date, date, date, date, date, date, date, date,\n",
    "                date, date, date, date, date, date, date, date]\n",
    "current_date_12 = [date, date, date, date, date, date, date, date, date, date, date, date]"
   ]
  },
  {
   "cell_type": "code",
   "execution_count": 23,
   "metadata": {},
   "outputs": [],
   "source": [
    "hours_24 = list(daily_hourly_values['Hour'][0:24])\n",
    "hours_12 = list(daily_hourly_values['Hour'][0:12])"
   ]
  },
  {
   "cell_type": "code",
   "execution_count": 24,
   "metadata": {},
   "outputs": [],
   "source": [
    "data_dict = {'Date': current_date_24, 'Hour': hours_24, 'Power (KW)': return_array}"
   ]
  },
  {
   "cell_type": "code",
   "execution_count": 25,
   "metadata": {},
   "outputs": [
    {
     "data": {
      "text/html": [
       "<div>\n",
       "<style scoped>\n",
       "    .dataframe tbody tr th:only-of-type {\n",
       "        vertical-align: middle;\n",
       "    }\n",
       "\n",
       "    .dataframe tbody tr th {\n",
       "        vertical-align: top;\n",
       "    }\n",
       "\n",
       "    .dataframe thead th {\n",
       "        text-align: right;\n",
       "    }\n",
       "</style>\n",
       "<table border=\"1\" class=\"dataframe\">\n",
       "  <thead>\n",
       "    <tr style=\"text-align: right;\">\n",
       "      <th></th>\n",
       "      <th>Date</th>\n",
       "      <th>Hour</th>\n",
       "      <th>Power (KW)</th>\n",
       "    </tr>\n",
       "  </thead>\n",
       "  <tbody>\n",
       "    <tr>\n",
       "      <th>0</th>\n",
       "      <td>2022-07-02</td>\n",
       "      <td>0</td>\n",
       "      <td>0.000000</td>\n",
       "    </tr>\n",
       "    <tr>\n",
       "      <th>1</th>\n",
       "      <td>2022-07-02</td>\n",
       "      <td>1</td>\n",
       "      <td>0.000000</td>\n",
       "    </tr>\n",
       "    <tr>\n",
       "      <th>2</th>\n",
       "      <td>2022-07-02</td>\n",
       "      <td>2</td>\n",
       "      <td>0.000000</td>\n",
       "    </tr>\n",
       "    <tr>\n",
       "      <th>3</th>\n",
       "      <td>2022-07-02</td>\n",
       "      <td>3</td>\n",
       "      <td>0.000000</td>\n",
       "    </tr>\n",
       "    <tr>\n",
       "      <th>4</th>\n",
       "      <td>2022-07-02</td>\n",
       "      <td>4</td>\n",
       "      <td>0.000000</td>\n",
       "    </tr>\n",
       "    <tr>\n",
       "      <th>5</th>\n",
       "      <td>2022-07-02</td>\n",
       "      <td>5</td>\n",
       "      <td>0.101096</td>\n",
       "    </tr>\n",
       "    <tr>\n",
       "      <th>6</th>\n",
       "      <td>2022-07-02</td>\n",
       "      <td>6</td>\n",
       "      <td>0.091773</td>\n",
       "    </tr>\n",
       "    <tr>\n",
       "      <th>7</th>\n",
       "      <td>2022-07-02</td>\n",
       "      <td>7</td>\n",
       "      <td>0.123174</td>\n",
       "    </tr>\n",
       "    <tr>\n",
       "      <th>8</th>\n",
       "      <td>2022-07-02</td>\n",
       "      <td>8</td>\n",
       "      <td>0.172500</td>\n",
       "    </tr>\n",
       "    <tr>\n",
       "      <th>9</th>\n",
       "      <td>2022-07-02</td>\n",
       "      <td>9</td>\n",
       "      <td>0.597226</td>\n",
       "    </tr>\n",
       "    <tr>\n",
       "      <th>10</th>\n",
       "      <td>2022-07-02</td>\n",
       "      <td>10</td>\n",
       "      <td>1.878896</td>\n",
       "    </tr>\n",
       "    <tr>\n",
       "      <th>11</th>\n",
       "      <td>2022-07-02</td>\n",
       "      <td>11</td>\n",
       "      <td>1.539491</td>\n",
       "    </tr>\n",
       "    <tr>\n",
       "      <th>12</th>\n",
       "      <td>2022-07-02</td>\n",
       "      <td>12</td>\n",
       "      <td>0.539133</td>\n",
       "    </tr>\n",
       "    <tr>\n",
       "      <th>13</th>\n",
       "      <td>2022-07-02</td>\n",
       "      <td>13</td>\n",
       "      <td>0.603487</td>\n",
       "    </tr>\n",
       "    <tr>\n",
       "      <th>14</th>\n",
       "      <td>2022-07-02</td>\n",
       "      <td>14</td>\n",
       "      <td>1.145364</td>\n",
       "    </tr>\n",
       "    <tr>\n",
       "      <th>15</th>\n",
       "      <td>2022-07-02</td>\n",
       "      <td>15</td>\n",
       "      <td>1.275566</td>\n",
       "    </tr>\n",
       "    <tr>\n",
       "      <th>16</th>\n",
       "      <td>2022-07-02</td>\n",
       "      <td>16</td>\n",
       "      <td>1.445643</td>\n",
       "    </tr>\n",
       "    <tr>\n",
       "      <th>17</th>\n",
       "      <td>2022-07-02</td>\n",
       "      <td>17</td>\n",
       "      <td>1.678698</td>\n",
       "    </tr>\n",
       "    <tr>\n",
       "      <th>18</th>\n",
       "      <td>2022-07-02</td>\n",
       "      <td>18</td>\n",
       "      <td>0.907866</td>\n",
       "    </tr>\n",
       "    <tr>\n",
       "      <th>19</th>\n",
       "      <td>2022-07-02</td>\n",
       "      <td>19</td>\n",
       "      <td>0.910063</td>\n",
       "    </tr>\n",
       "    <tr>\n",
       "      <th>20</th>\n",
       "      <td>2022-07-02</td>\n",
       "      <td>20</td>\n",
       "      <td>0.808671</td>\n",
       "    </tr>\n",
       "    <tr>\n",
       "      <th>21</th>\n",
       "      <td>2022-07-02</td>\n",
       "      <td>21</td>\n",
       "      <td>0.730568</td>\n",
       "    </tr>\n",
       "    <tr>\n",
       "      <th>22</th>\n",
       "      <td>2022-07-02</td>\n",
       "      <td>22</td>\n",
       "      <td>0.000000</td>\n",
       "    </tr>\n",
       "    <tr>\n",
       "      <th>23</th>\n",
       "      <td>2022-07-02</td>\n",
       "      <td>23</td>\n",
       "      <td>0.000000</td>\n",
       "    </tr>\n",
       "  </tbody>\n",
       "</table>\n",
       "</div>"
      ],
      "text/plain": [
       "          Date  Hour  Power (KW)\n",
       "0   2022-07-02     0    0.000000\n",
       "1   2022-07-02     1    0.000000\n",
       "2   2022-07-02     2    0.000000\n",
       "3   2022-07-02     3    0.000000\n",
       "4   2022-07-02     4    0.000000\n",
       "5   2022-07-02     5    0.101096\n",
       "6   2022-07-02     6    0.091773\n",
       "7   2022-07-02     7    0.123174\n",
       "8   2022-07-02     8    0.172500\n",
       "9   2022-07-02     9    0.597226\n",
       "10  2022-07-02    10    1.878896\n",
       "11  2022-07-02    11    1.539491\n",
       "12  2022-07-02    12    0.539133\n",
       "13  2022-07-02    13    0.603487\n",
       "14  2022-07-02    14    1.145364\n",
       "15  2022-07-02    15    1.275566\n",
       "16  2022-07-02    16    1.445643\n",
       "17  2022-07-02    17    1.678698\n",
       "18  2022-07-02    18    0.907866\n",
       "19  2022-07-02    19    0.910063\n",
       "20  2022-07-02    20    0.808671\n",
       "21  2022-07-02    21    0.730568\n",
       "22  2022-07-02    22    0.000000\n",
       "23  2022-07-02    23    0.000000"
      ]
     },
     "execution_count": 25,
     "metadata": {},
     "output_type": "execute_result"
    }
   ],
   "source": [
    "data_dataframe = pd.DataFrame(data_dict)\n",
    "data_dataframe"
   ]
  },
  {
   "cell_type": "code",
   "execution_count": 26,
   "metadata": {},
   "outputs": [
    {
     "data": {
      "text/plain": [
       "14.549214246545139"
      ]
     },
     "execution_count": 26,
     "metadata": {},
     "output_type": "execute_result"
    }
   ],
   "source": [
    "data_dataframe['Power (KW)'].sum()"
   ]
  },
  {
   "cell_type": "markdown",
   "metadata": {},
   "source": [
    "## Evaluating the model"
   ]
  },
  {
   "cell_type": "markdown",
   "metadata": {},
   "source": [
    "#### MSE = mean_squared_error(actual value, predicted value)"
   ]
  },
  {
   "cell_type": "code",
   "execution_count": 27,
   "metadata": {},
   "outputs": [
    {
     "data": {
      "text/plain": [
       "0.3521589437841667"
      ]
     },
     "execution_count": 27,
     "metadata": {},
     "output_type": "execute_result"
    }
   ],
   "source": [
    "mean_sq_error = metrics.mean_squared_error(today_hourly_values['Power (KW)'], data_dataframe['Power (KW)'].head(length_today_hourly_values))\n",
    "mean_sq_error"
   ]
  },
  {
   "cell_type": "code",
   "execution_count": 28,
   "metadata": {},
   "outputs": [
    {
     "data": {
      "text/plain": [
       "0.5934298136967561"
      ]
     },
     "execution_count": 28,
     "metadata": {},
     "output_type": "execute_result"
    }
   ],
   "source": [
    "root_mean_sq_error = np.sqrt(mean_sq_error)\n",
    "root_mean_sq_error"
   ]
  },
  {
   "cell_type": "code",
   "execution_count": 29,
   "metadata": {},
   "outputs": [
    {
     "data": {
      "text/plain": [
       "0.4056981189553229"
      ]
     },
     "execution_count": 29,
     "metadata": {},
     "output_type": "execute_result"
    }
   ],
   "source": [
    "mean_ab_error = metrics.mean_absolute_error(today_hourly_values['Power (KW)'], data_dataframe['Power (KW)'].head(length_today_hourly_values))\n",
    "mean_ab_error"
   ]
  },
  {
   "cell_type": "markdown",
   "metadata": {},
   "source": [
    "#### R squared"
   ]
  },
  {
   "cell_type": "code",
   "execution_count": 30,
   "metadata": {},
   "outputs": [
    {
     "data": {
      "text/plain": [
       "-0.248258604126381"
      ]
     },
     "execution_count": 30,
     "metadata": {},
     "output_type": "execute_result"
    }
   ],
   "source": [
    "r_squared = metrics.r2_score(today_hourly_values['Power (KW)'], data_dataframe['Power (KW)'].head(length_today_hourly_values))\n",
    "r_squared"
   ]
  },
  {
   "cell_type": "markdown",
   "metadata": {},
   "source": [
    "#### Yesterday results"
   ]
  },
  {
   "cell_type": "code",
   "execution_count": 31,
   "metadata": {},
   "outputs": [
    {
     "data": {
      "text/plain": [
       "16.013538591168523"
      ]
     },
     "execution_count": 31,
     "metadata": {},
     "output_type": "execute_result"
    }
   ],
   "source": [
    "filter_last_day_values = df[df['Date'] == unique_date[-2]][['Date', 'Hour', 'Power (KW)']]\n",
    "last_day_hourly_values = filter_last_day_values.groupby(['Date', 'Hour'])['Power (KW)'].sum().reset_index()\n",
    "\n",
    "filter_yes_values = df[(df['Date'] >= '2022-06-25') & (df['Date'] <= unique_date[-3])][['Date', 'Hour', 'Power (KW)']]\n",
    "yes_hourly_values = filter_yes_values.groupby(['Date', 'Hour'])['Power (KW)'].sum().reset_index()\n",
    "header_list = ['Date', 'Time', 'SolarIrradiance (W/m2)', 'weather status', 'Temp (°C)', 'RealFeelTemp (°C)', 'DewPoint (°C)', 'Wind (km/h)',\n",
    "              'Direction', 'Hum (%)', 'Visibility (km)', 'UVIndex', 'UVIndexText', 'PreProbability (%)', 'RainProbability (%)',\n",
    "              'CloudCover (%)']\n",
    "weather_data1 = pd.read_csv('hourly_weather_forecasted_data.csv', names = header_list, encoding= 'unicode_escape')\n",
    "weather_data1['code'] = pd.factorize(weather_data1['weather status'])[0]\n",
    "# weather_data1['modified_weather_status'] = weather_data1['weather status'].map(data_selection)\n",
    "weather_data1.loc[weather_data1['SolarIrradiance (W/m2)'] == 0, ['modified_weather_status', 'Temp (°C)', 'Hum (%)', 'CloudCover (%)']] = 0\n",
    "weather_unique_date = weather_data1['Date'].unique()\n",
    "filter_weather_yes_values = weather_data1[\n",
    "                                         (weather_data1['Date'] >= '2022-06-25') & \n",
    "                                         (weather_data1['Date'] <= weather_unique_date[-3])][['Temp (°C)', 'Hum (%)', 'code']]\n",
    "yes_df1 = pd.concat([yes_hourly_values, filter_weather_yes_values], axis = 1)\n",
    "yes_df1.drop(['Date', 'Hour'], axis = 1, inplace = True)\n",
    "# yes_df1.loc[yes_df1['SolarIrradiance (W/m2)'] == 0, ['modified_weather_status', 'Temp (°C)', 'Hum (%)', 'CloudCover (%)']] = 0\n",
    "yes_count_total_rows = len(yes_df1)\n",
    "yes_independent_columns = yes_df1[['Temp (°C)', 'Hum (%)', 'code']][0:yes_count_total_rows]\n",
    "yes_dependent_column = yes_df1['Power (KW)'][0:yes_count_total_rows]\n",
    "rfr_yes = RandomForestRegressor(n_estimators = 100, random_state = 0)\n",
    "rfr_yes.fit(yes_independent_columns, yes_dependent_column)\n",
    "forcasted_yes_values = weather_data1[(weather_data1['Date'] == weather_unique_date[-2])][['Temp (°C)', 'Hum (%)', 'code']]\n",
    "# forcasted_yes_values.loc[forcasted_yes_values['SolarIrradiance (W/m2)'] == 0, ['modified_weather_status', 'Temp (°C)', 'Hum (%)', 'CloudCover (%)']] = 0\n",
    "rfr_yes_return_array = rfr_yes.predict(forcasted_yes_values)\n",
    "rfr_yes_predicted_data = pd.DataFrame(rfr_yes_return_array, columns = ['Power (KW)'])\n",
    "rfr_yes_pe = rfr_yes_predicted_data['Power (KW)'].sum()\n",
    "rfr_yes_mse = metrics.mean_squared_error(last_day_hourly_values['Power (KW)'], rfr_yes_predicted_data['Power (KW)'])\n",
    "rfr_yes_rmse = np.sqrt(rfr_yes_mse)\n",
    "rfr_yes_mae = metrics.mean_absolute_error(last_day_hourly_values['Power (KW)'], rfr_yes_predicted_data['Power (KW)'])\n",
    "rfr_yes_rs = metrics.r2_score(last_day_hourly_values['Power (KW)'], rfr_yes_predicted_data['Power (KW)'])\n",
    "rfr_yes_pe"
   ]
  },
  {
   "cell_type": "code",
   "execution_count": null,
   "metadata": {},
   "outputs": [],
   "source": []
  },
  {
   "cell_type": "code",
   "execution_count": null,
   "metadata": {},
   "outputs": [],
   "source": []
  }
 ],
 "metadata": {
  "kernelspec": {
   "display_name": "Python 3",
   "language": "python",
   "name": "python3"
  },
  "language_info": {
   "codemirror_mode": {
    "name": "ipython",
    "version": 3
   },
   "file_extension": ".py",
   "mimetype": "text/x-python",
   "name": "python",
   "nbconvert_exporter": "python",
   "pygments_lexer": "ipython3",
   "version": "3.8.3"
  }
 },
 "nbformat": 4,
 "nbformat_minor": 4
}
